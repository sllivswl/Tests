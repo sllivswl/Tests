{
 "cells": [
  {
   "cell_type": "code",
   "execution_count": 1,
   "id": "c2cdfcd9-b2b3-429a-ade5-9117b45e5151",
   "metadata": {},
   "outputs": [],
   "source": [
    "import requests\n",
    "import json\n",
    "import pandas as pd"
   ]
  },
  {
   "attachments": {},
   "cell_type": "markdown",
   "id": "ea86546d-7519-4cbb-bfe9-338dbb27fc89",
   "metadata": {},
   "source": [
    "### Task 1\n",
    "#### You need to research data from Itunes API of TOP paid applications in Russia for next tasks:\n",
    "- define the model of data by spliting them to main data - some kind of daily rate of definite market research and guides which could present additional attributes of main data with relation's information for storing into DB\n",
    "- make presentation of which tool you choose for scheduled ETL process into DB\n",
    "\n"
   ]
  },
  {
   "attachments": {},
   "cell_type": "markdown",
   "id": "7a7cb58e",
   "metadata": {},
   "source": [
    "В тексте задачи сказано, что мы собираем некоторое количество ежедневных данных для исследования рынка. Предположим, что мы хотим смотреть на динамический рейтинг 100 самых популярных платных продуктов в iTunes. Для этого нам нужно систематически отправлять запрос к API с определенными промежутками времени. Для этой цели я предлагаю использовать `Kafka`. Далее с помощью запланированных заданий в `AirFlow` данные импортируются и предобрабатыватся. Сырые данные в табличной форме записываются в файловое хранилище в формате `.parquet`.\n",
    "Затем трансформируются в набор таблиц, которые сохраняются в БД. На выходе мы можем автоматизировать выгрузку запросов из БД или работать с даннами в ручном режиме. "
   ]
  },
  {
   "attachments": {},
   "cell_type": "markdown",
   "id": "fb0e4d6c-ee42-4bb7-9e92-69056d7cc1d2",
   "metadata": {},
   "source": [
    "![etl_pipeline.jpg](https://i.ibb.co/M7Jw520/etl-pipeline-upd.jpg)"
   ]
  },
  {
   "attachments": {},
   "cell_type": "markdown",
   "id": "e93c4c61",
   "metadata": {},
   "source": [
    "Первый этап - выгрузка данных. Для разработки базы данных я скачаю их напрямую."
   ]
  },
  {
   "cell_type": "code",
   "execution_count": 2,
   "id": "0ffc4821-1e7d-4d01-b60b-b73981908b0c",
   "metadata": {},
   "outputs": [],
   "source": [
    "url = 'https://rss.applemarketingtools.com/api/v2/ru/apps/top-paid/100/apps.json'"
   ]
  },
  {
   "cell_type": "code",
   "execution_count": 3,
   "id": "ffbd50d5",
   "metadata": {},
   "outputs": [
    {
     "name": "stdout",
     "output_type": "stream",
     "text": [
      "200\n"
     ]
    }
   ],
   "source": [
    "response = requests.get(url)\n",
    "print(response.status_code)"
   ]
  },
  {
   "cell_type": "code",
   "execution_count": 4,
   "id": "eafcb328-5386-4619-933a-76a668998a34",
   "metadata": {},
   "outputs": [],
   "source": [
    "json_data = response.json()"
   ]
  },
  {
   "cell_type": "code",
   "execution_count": 5,
   "id": "3b12b891",
   "metadata": {},
   "outputs": [],
   "source": [
    "def get_value(key: str, obj: object) -> object:\n",
    "    \"\"\"Достает значения из поля объекта json\n",
    "    \"\"\"\n",
    "    \n",
    "    if obj == None:\n",
    "        return None\n",
    "    else:\n",
    "        if key in obj:\n",
    "            return obj[key]\n",
    "        \n",
    "        if isinstance(obj, dict) or isinstance(obj, list):\n",
    "            for k, v in obj.items():\n",
    "\n",
    "                if isinstance(v, dict):\n",
    "                    return get_value(key, v)\n",
    "                \n",
    "                elif isinstance(v, list):\n",
    "                    for elm in range(len(v)):\n",
    "                        return get_value(key, v[elm-1])"
   ]
  },
  {
   "cell_type": "code",
   "execution_count": 6,
   "id": "e624e5bd",
   "metadata": {},
   "outputs": [
    {
     "name": "stdout",
     "output_type": "stream",
     "text": [
      "(99, 8)\n"
     ]
    }
   ],
   "source": [
    "results = get_value('results', json_data)\n",
    "df = pd.DataFrame.from_dict(results)\n",
    "print(df.shape)"
   ]
  },
  {
   "attachments": {},
   "cell_type": "markdown",
   "id": "11fbac30",
   "metadata": {},
   "source": [
    "На этапе первичной предобработки данные обогащаются дополнительными признаками: ранг и время выгрузки, - и сохраняются в `.parquet` для последующего хранения."
   ]
  },
  {
   "cell_type": "code",
   "execution_count": 7,
   "id": "300059ab",
   "metadata": {},
   "outputs": [
    {
     "name": "stdout",
     "output_type": "stream",
     "text": [
      "(99, 10)\n"
     ]
    },
    {
     "data": {
      "text/html": [
       "<div>\n",
       "<style scoped>\n",
       "    .dataframe tbody tr th:only-of-type {\n",
       "        vertical-align: middle;\n",
       "    }\n",
       "\n",
       "    .dataframe tbody tr th {\n",
       "        vertical-align: top;\n",
       "    }\n",
       "\n",
       "    .dataframe thead th {\n",
       "        text-align: right;\n",
       "    }\n",
       "</style>\n",
       "<table border=\"1\" class=\"dataframe\">\n",
       "  <thead>\n",
       "    <tr style=\"text-align: right;\">\n",
       "      <th></th>\n",
       "      <th>artistName</th>\n",
       "      <th>id</th>\n",
       "      <th>name</th>\n",
       "      <th>releaseDate</th>\n",
       "      <th>kind</th>\n",
       "      <th>artworkUrl100</th>\n",
       "      <th>genres</th>\n",
       "      <th>url</th>\n",
       "      <th>rank</th>\n",
       "      <th>date</th>\n",
       "    </tr>\n",
       "  </thead>\n",
       "  <tbody>\n",
       "    <tr>\n",
       "      <th>0</th>\n",
       "      <td>Dmitry Filinsky</td>\n",
       "      <td>856861890</td>\n",
       "      <td>Антирадар HUD Speed Pro</td>\n",
       "      <td>2014-04-17</td>\n",
       "      <td>apps</td>\n",
       "      <td>https://is2-ssl.mzstatic.com/image/thumb/Purpl...</td>\n",
       "      <td>[]</td>\n",
       "      <td>https://apps.apple.com/ru/app/%D0%B0%D0%BD%D1%...</td>\n",
       "      <td>1</td>\n",
       "      <td>2023-06-21 19:54:08.968204</td>\n",
       "    </tr>\n",
       "    <tr>\n",
       "      <th>1</th>\n",
       "      <td>Threema GmbH</td>\n",
       "      <td>578665578</td>\n",
       "      <td>Threema. Безопасный мессенджер</td>\n",
       "      <td>2012-12-28</td>\n",
       "      <td>apps</td>\n",
       "      <td>https://is4-ssl.mzstatic.com/image/thumb/Purpl...</td>\n",
       "      <td>[]</td>\n",
       "      <td>https://apps.apple.com/ru/app/threema-%D0%B1%D...</td>\n",
       "      <td>2</td>\n",
       "      <td>2023-06-21 19:54:08.968204</td>\n",
       "    </tr>\n",
       "  </tbody>\n",
       "</table>\n",
       "</div>"
      ],
      "text/plain": [
       "        artistName         id                            name releaseDate  \\\n",
       "0  Dmitry Filinsky  856861890         Антирадар HUD Speed Pro  2014-04-17   \n",
       "1     Threema GmbH  578665578  Threema. Безопасный мессенджер  2012-12-28   \n",
       "\n",
       "   kind                                      artworkUrl100 genres  \\\n",
       "0  apps  https://is2-ssl.mzstatic.com/image/thumb/Purpl...     []   \n",
       "1  apps  https://is4-ssl.mzstatic.com/image/thumb/Purpl...     []   \n",
       "\n",
       "                                                 url  rank  \\\n",
       "0  https://apps.apple.com/ru/app/%D0%B0%D0%BD%D1%...     1   \n",
       "1  https://apps.apple.com/ru/app/threema-%D0%B1%D...     2   \n",
       "\n",
       "                        date  \n",
       "0 2023-06-21 19:54:08.968204  \n",
       "1 2023-06-21 19:54:08.968204  "
      ]
     },
     "execution_count": 7,
     "metadata": {},
     "output_type": "execute_result"
    }
   ],
   "source": [
    "import datetime \n",
    "\n",
    "# добавим признак `rank` - значение рейтинга для каждой позиции\n",
    "rank = [i for i in range(1, len(results)+1)]\n",
    "df['rank'] = rank\n",
    "\n",
    "# и дату выгрузки\n",
    "df['date'] = datetime.datetime.now() \n",
    "\n",
    "print(df.shape)\n",
    "df.head(2)"
   ]
  },
  {
   "cell_type": "code",
   "execution_count": 8,
   "id": "b536298b",
   "metadata": {},
   "outputs": [],
   "source": [
    "# сохраняем данные на сервер \n",
    "\n",
    "import os\n",
    "\n",
    "raw_data = './raw_data'\n",
    "os.makedirs(raw_data, exist_ok=True)\n",
    "\n",
    "df.to_parquet(os.path.join(raw_data, 'itunes_top_paid_100_apps.parquet'), index=False)"
   ]
  },
  {
   "attachments": {},
   "cell_type": "markdown",
   "id": "74067389",
   "metadata": {},
   "source": [
    "На втором этапе данные выгружаются из хранилища, нормализуются и разбиваются на таблицы фактов и расширений в соответствии со схемой базы данных."
   ]
  },
  {
   "attachments": {},
   "cell_type": "markdown",
   "id": "101c959e",
   "metadata": {},
   "source": [
    "![db_schema.jpg](https://i.ibb.co/7KZWJq1/bd-schema.png)"
   ]
  },
  {
   "cell_type": "code",
   "execution_count": 9,
   "id": "4c0dac57",
   "metadata": {},
   "outputs": [
    {
     "name": "stdout",
     "output_type": "stream",
     "text": [
      "(99, 10)\n"
     ]
    },
    {
     "data": {
      "text/html": [
       "<div>\n",
       "<style scoped>\n",
       "    .dataframe tbody tr th:only-of-type {\n",
       "        vertical-align: middle;\n",
       "    }\n",
       "\n",
       "    .dataframe tbody tr th {\n",
       "        vertical-align: top;\n",
       "    }\n",
       "\n",
       "    .dataframe thead th {\n",
       "        text-align: right;\n",
       "    }\n",
       "</style>\n",
       "<table border=\"1\" class=\"dataframe\">\n",
       "  <thead>\n",
       "    <tr style=\"text-align: right;\">\n",
       "      <th></th>\n",
       "      <th>artistName</th>\n",
       "      <th>id</th>\n",
       "      <th>name</th>\n",
       "      <th>releaseDate</th>\n",
       "      <th>kind</th>\n",
       "      <th>artworkUrl100</th>\n",
       "      <th>genres</th>\n",
       "      <th>url</th>\n",
       "      <th>rank</th>\n",
       "      <th>date</th>\n",
       "    </tr>\n",
       "  </thead>\n",
       "  <tbody>\n",
       "    <tr>\n",
       "      <th>0</th>\n",
       "      <td>Dmitry Filinsky</td>\n",
       "      <td>856861890</td>\n",
       "      <td>Антирадар HUD Speed Pro</td>\n",
       "      <td>2014-04-17</td>\n",
       "      <td>apps</td>\n",
       "      <td>https://is2-ssl.mzstatic.com/image/thumb/Purpl...</td>\n",
       "      <td>[]</td>\n",
       "      <td>https://apps.apple.com/ru/app/%D0%B0%D0%BD%D1%...</td>\n",
       "      <td>1</td>\n",
       "      <td>2023-06-21 19:54:08.968204</td>\n",
       "    </tr>\n",
       "    <tr>\n",
       "      <th>1</th>\n",
       "      <td>Threema GmbH</td>\n",
       "      <td>578665578</td>\n",
       "      <td>Threema. Безопасный мессенджер</td>\n",
       "      <td>2012-12-28</td>\n",
       "      <td>apps</td>\n",
       "      <td>https://is4-ssl.mzstatic.com/image/thumb/Purpl...</td>\n",
       "      <td>[]</td>\n",
       "      <td>https://apps.apple.com/ru/app/threema-%D0%B1%D...</td>\n",
       "      <td>2</td>\n",
       "      <td>2023-06-21 19:54:08.968204</td>\n",
       "    </tr>\n",
       "  </tbody>\n",
       "</table>\n",
       "</div>"
      ],
      "text/plain": [
       "        artistName         id                            name releaseDate  \\\n",
       "0  Dmitry Filinsky  856861890         Антирадар HUD Speed Pro  2014-04-17   \n",
       "1     Threema GmbH  578665578  Threema. Безопасный мессенджер  2012-12-28   \n",
       "\n",
       "   kind                                      artworkUrl100 genres  \\\n",
       "0  apps  https://is2-ssl.mzstatic.com/image/thumb/Purpl...     []   \n",
       "1  apps  https://is4-ssl.mzstatic.com/image/thumb/Purpl...     []   \n",
       "\n",
       "                                                 url  rank  \\\n",
       "0  https://apps.apple.com/ru/app/%D0%B0%D0%BD%D1%...     1   \n",
       "1  https://apps.apple.com/ru/app/threema-%D0%B1%D...     2   \n",
       "\n",
       "                        date  \n",
       "0 2023-06-21 19:54:08.968204  \n",
       "1 2023-06-21 19:54:08.968204  "
      ]
     },
     "execution_count": 9,
     "metadata": {},
     "output_type": "execute_result"
    }
   ],
   "source": [
    "# загружаем сохраненный датасет\n",
    "\n",
    "df = pd.read_parquet('raw_data/itunes_top_paid_100_apps.parquet')\n",
    "print(df.shape)\n",
    "df.head(2)"
   ]
  },
  {
   "cell_type": "code",
   "execution_count": 10,
   "id": "d3fa3610",
   "metadata": {},
   "outputs": [
    {
     "name": "stdout",
     "output_type": "stream",
     "text": [
      "99\n"
     ]
    },
    {
     "data": {
      "text/html": [
       "<div>\n",
       "<style scoped>\n",
       "    .dataframe tbody tr th:only-of-type {\n",
       "        vertical-align: middle;\n",
       "    }\n",
       "\n",
       "    .dataframe tbody tr th {\n",
       "        vertical-align: top;\n",
       "    }\n",
       "\n",
       "    .dataframe thead th {\n",
       "        text-align: right;\n",
       "    }\n",
       "</style>\n",
       "<table border=\"1\" class=\"dataframe\">\n",
       "  <thead>\n",
       "    <tr style=\"text-align: right;\">\n",
       "      <th></th>\n",
       "      <th>product_id</th>\n",
       "      <th>rank</th>\n",
       "      <th>date</th>\n",
       "    </tr>\n",
       "  </thead>\n",
       "  <tbody>\n",
       "    <tr>\n",
       "      <th>0</th>\n",
       "      <td>856861890</td>\n",
       "      <td>1</td>\n",
       "      <td>2023-06-21 19:54:08.968204</td>\n",
       "    </tr>\n",
       "    <tr>\n",
       "      <th>1</th>\n",
       "      <td>578665578</td>\n",
       "      <td>2</td>\n",
       "      <td>2023-06-21 19:54:08.968204</td>\n",
       "    </tr>\n",
       "  </tbody>\n",
       "</table>\n",
       "</div>"
      ],
      "text/plain": [
       "  product_id  rank                       date\n",
       "0  856861890     1 2023-06-21 19:54:08.968204\n",
       "1  578665578     2 2023-06-21 19:54:08.968204"
      ]
     },
     "execution_count": 10,
     "metadata": {},
     "output_type": "execute_result"
    }
   ],
   "source": [
    "# product_rating\n",
    "\n",
    "product_id = df['id'].to_list()\n",
    "\n",
    "df_product_rating = pd.DataFrame({\n",
    "    'product_id': product_id,\n",
    "    'rank': df['rank'].to_list(),\n",
    "    'date': df['date'].to_list(),\n",
    "})\n",
    "\n",
    "print(len(df_product_rating))\n",
    "df_product_rating.head(2)"
   ]
  },
  {
   "cell_type": "code",
   "execution_count": 11,
   "id": "07cd4e53",
   "metadata": {},
   "outputs": [
    {
     "name": "stdout",
     "output_type": "stream",
     "text": [
      "90\n"
     ]
    },
    {
     "data": {
      "text/html": [
       "<div>\n",
       "<style scoped>\n",
       "    .dataframe tbody tr th:only-of-type {\n",
       "        vertical-align: middle;\n",
       "    }\n",
       "\n",
       "    .dataframe tbody tr th {\n",
       "        vertical-align: top;\n",
       "    }\n",
       "\n",
       "    .dataframe thead th {\n",
       "        text-align: right;\n",
       "    }\n",
       "</style>\n",
       "<table border=\"1\" class=\"dataframe\">\n",
       "  <thead>\n",
       "    <tr style=\"text-align: right;\">\n",
       "      <th></th>\n",
       "      <th>author_id</th>\n",
       "      <th>name</th>\n",
       "    </tr>\n",
       "  </thead>\n",
       "  <tbody>\n",
       "    <tr>\n",
       "      <th>0</th>\n",
       "      <td>1</td>\n",
       "      <td>ARAMAIS AYRAPETYAN</td>\n",
       "    </tr>\n",
       "    <tr>\n",
       "      <th>1</th>\n",
       "      <td>2</td>\n",
       "      <td>Pixelmator Team</td>\n",
       "    </tr>\n",
       "  </tbody>\n",
       "</table>\n",
       "</div>"
      ],
      "text/plain": [
       "   author_id                name\n",
       "0          1  ARAMAIS AYRAPETYAN\n",
       "1          2     Pixelmator Team"
      ]
     },
     "execution_count": 11,
     "metadata": {},
     "output_type": "execute_result"
    }
   ],
   "source": [
    "# author - отбираем уникальных авторов\n",
    "# для добавления новых строк в уже существующую таблицу нужно будет обновить функцию генерации `author_id`, \n",
    "# чтобы обеспечить уникальность\n",
    "\n",
    "df_author = pd.DataFrame({\n",
    "    'author_id': [i for i in range(1, len(set(df['artistName'].to_list()))+1)],\n",
    "    'name': list(set(df['artistName'].to_list())),\n",
    "})\n",
    "\n",
    "print(len(df_author))\n",
    "df_author.head(2)"
   ]
  },
  {
   "cell_type": "code",
   "execution_count": 12,
   "id": "d065a414",
   "metadata": {},
   "outputs": [
    {
     "name": "stdout",
     "output_type": "stream",
     "text": [
      "1\n"
     ]
    },
    {
     "data": {
      "text/html": [
       "<div>\n",
       "<style scoped>\n",
       "    .dataframe tbody tr th:only-of-type {\n",
       "        vertical-align: middle;\n",
       "    }\n",
       "\n",
       "    .dataframe tbody tr th {\n",
       "        vertical-align: top;\n",
       "    }\n",
       "\n",
       "    .dataframe thead th {\n",
       "        text-align: right;\n",
       "    }\n",
       "</style>\n",
       "<table border=\"1\" class=\"dataframe\">\n",
       "  <thead>\n",
       "    <tr style=\"text-align: right;\">\n",
       "      <th></th>\n",
       "      <th>kind_id</th>\n",
       "      <th>name</th>\n",
       "    </tr>\n",
       "  </thead>\n",
       "  <tbody>\n",
       "    <tr>\n",
       "      <th>0</th>\n",
       "      <td>1</td>\n",
       "      <td>apps</td>\n",
       "    </tr>\n",
       "  </tbody>\n",
       "</table>\n",
       "</div>"
      ],
      "text/plain": [
       "   kind_id  name\n",
       "0        1  apps"
      ]
     },
     "execution_count": 12,
     "metadata": {},
     "output_type": "execute_result"
    }
   ],
   "source": [
    "# kind - отбираем уникальные значения\n",
    "# при добавлении наовых порций данных надо следить, чтобы в справочник попадали только новые и уникальные\n",
    "\n",
    "df_kind = pd.DataFrame({\n",
    "    'kind_id': [i for i in range(1, len(set(df['kind'].to_list()))+1)],\n",
    "    'name': list(set(df['kind'].to_list())),\n",
    "})\n",
    "print(len(df_kind))\n",
    "df_kind.head()"
   ]
  },
  {
   "cell_type": "code",
   "execution_count": 13,
   "id": "eda39dd5",
   "metadata": {},
   "outputs": [
    {
     "name": "stdout",
     "output_type": "stream",
     "text": [
      "174\n"
     ]
    },
    {
     "data": {
      "text/html": [
       "<div>\n",
       "<style scoped>\n",
       "    .dataframe tbody tr th:only-of-type {\n",
       "        vertical-align: middle;\n",
       "    }\n",
       "\n",
       "    .dataframe tbody tr th {\n",
       "        vertical-align: top;\n",
       "    }\n",
       "\n",
       "    .dataframe thead th {\n",
       "        text-align: right;\n",
       "    }\n",
       "</style>\n",
       "<table border=\"1\" class=\"dataframe\">\n",
       "  <thead>\n",
       "    <tr style=\"text-align: right;\">\n",
       "      <th></th>\n",
       "      <th>id</th>\n",
       "      <th>genre_id</th>\n",
       "      <th>name</th>\n",
       "      <th>url</th>\n",
       "    </tr>\n",
       "  </thead>\n",
       "  <tbody>\n",
       "    <tr>\n",
       "      <th>0</th>\n",
       "      <td>866450515</td>\n",
       "      <td>6007</td>\n",
       "      <td>Производительность</td>\n",
       "      <td>https://itunes.apple.com/ru/genre/id6007</td>\n",
       "    </tr>\n",
       "    <tr>\n",
       "      <th>1</th>\n",
       "      <td>866450515</td>\n",
       "      <td>6012</td>\n",
       "      <td>Образ жизни</td>\n",
       "      <td>https://itunes.apple.com/ru/genre/id6012</td>\n",
       "    </tr>\n",
       "  </tbody>\n",
       "</table>\n",
       "</div>"
      ],
      "text/plain": [
       "          id genre_id                name  \\\n",
       "0  866450515     6007  Производительность   \n",
       "1  866450515     6012         Образ жизни   \n",
       "\n",
       "                                        url  \n",
       "0  https://itunes.apple.com/ru/genre/id6007  \n",
       "1  https://itunes.apple.com/ru/genre/id6012  "
      ]
     },
     "execution_count": 13,
     "metadata": {},
     "output_type": "execute_result"
    }
   ],
   "source": [
    "# genre - преобразуем список словарей в справочник уникальных жанров\n",
    "# при добавлении новых порций данных надо следить, чтобы в справочник попадали только новые и уникальные\n",
    "\n",
    "tmp = df.copy()\n",
    "tmp['genre_id'] = tmp['genres'].apply(lambda x: [get_value('genreId', el) for el in x if len(x) > 0])\n",
    "tmp['name'] = tmp['genres'].apply(lambda x: [get_value('name', el) for el in x if len(x) > 0])\n",
    "tmp['url'] = tmp['genres'].apply(lambda x: [get_value('url', el) for el in x if len(x) > 0])\n",
    "\n",
    "tmp_g = tmp[['id', 'genre_id', 'name', 'url']].explode(['genre_id', 'name', 'url'])\n",
    "\n",
    "df_genre = tmp_g.drop_duplicates().dropna().reset_index(drop=True)\n",
    "print(len(df_genre))\n",
    "df_genre.head(2)"
   ]
  },
  {
   "cell_type": "code",
   "execution_count": 14,
   "id": "4b5ce5c9",
   "metadata": {},
   "outputs": [
    {
     "name": "stdout",
     "output_type": "stream",
     "text": [
      "184\n"
     ]
    },
    {
     "data": {
      "text/html": [
       "<div>\n",
       "<style scoped>\n",
       "    .dataframe tbody tr th:only-of-type {\n",
       "        vertical-align: middle;\n",
       "    }\n",
       "\n",
       "    .dataframe tbody tr th {\n",
       "        vertical-align: top;\n",
       "    }\n",
       "\n",
       "    .dataframe thead th {\n",
       "        text-align: right;\n",
       "    }\n",
       "</style>\n",
       "<table border=\"1\" class=\"dataframe\">\n",
       "  <thead>\n",
       "    <tr style=\"text-align: right;\">\n",
       "      <th></th>\n",
       "      <th>product_id</th>\n",
       "      <th>author_id</th>\n",
       "      <th>genre_id</th>\n",
       "      <th>kind_id</th>\n",
       "      <th>name</th>\n",
       "      <th>release_date</th>\n",
       "      <th>url</th>\n",
       "      <th>art_url</th>\n",
       "    </tr>\n",
       "  </thead>\n",
       "  <tbody>\n",
       "    <tr>\n",
       "      <th>0</th>\n",
       "      <td>856861890</td>\n",
       "      <td>62</td>\n",
       "      <td>NaN</td>\n",
       "      <td>1</td>\n",
       "      <td>Антирадар HUD Speed Pro</td>\n",
       "      <td>2014-04-17</td>\n",
       "      <td>https://apps.apple.com/ru/app/%D0%B0%D0%BD%D1%...</td>\n",
       "      <td>https://is2-ssl.mzstatic.com/image/thumb/Purpl...</td>\n",
       "    </tr>\n",
       "    <tr>\n",
       "      <th>1</th>\n",
       "      <td>578665578</td>\n",
       "      <td>81</td>\n",
       "      <td>NaN</td>\n",
       "      <td>1</td>\n",
       "      <td>Threema. Безопасный мессенджер</td>\n",
       "      <td>2012-12-28</td>\n",
       "      <td>https://apps.apple.com/ru/app/threema-%D0%B1%D...</td>\n",
       "      <td>https://is4-ssl.mzstatic.com/image/thumb/Purpl...</td>\n",
       "    </tr>\n",
       "  </tbody>\n",
       "</table>\n",
       "</div>"
      ],
      "text/plain": [
       "  product_id  author_id genre_id  kind_id                            name  \\\n",
       "0  856861890         62      NaN        1         Антирадар HUD Speed Pro   \n",
       "1  578665578         81      NaN        1  Threema. Безопасный мессенджер   \n",
       "\n",
       "  release_date                                                url  \\\n",
       "0   2014-04-17  https://apps.apple.com/ru/app/%D0%B0%D0%BD%D1%...   \n",
       "1   2012-12-28  https://apps.apple.com/ru/app/threema-%D0%B1%D...   \n",
       "\n",
       "                                             art_url  \n",
       "0  https://is2-ssl.mzstatic.com/image/thumb/Purpl...  \n",
       "1  https://is4-ssl.mzstatic.com/image/thumb/Purpl...  "
      ]
     },
     "execution_count": 14,
     "metadata": {},
     "output_type": "execute_result"
    }
   ],
   "source": [
    "# product - содержит основную информацию о продукте и внешние ключи для доступа к расширениям\n",
    "# итоговое количество строк стало больше 100 из-за нормализации данных \n",
    "\n",
    "df_product = pd.DataFrame({\n",
    "    'product_id': product_id,\n",
    "    'name': df['name'].to_list(), \n",
    "    'release_date': df['releaseDate'].to_list(),\n",
    "    'url': df['url'].to_list(),\n",
    "    'art_url': df['artworkUrl100'].to_list(),\n",
    "})\n",
    "\n",
    "tmp = df[['id', 'artistName', 'kind']].copy()\n",
    "tmp = tmp.merge(df_author, left_on='artistName', right_on='name', how='left')\n",
    "tmp = tmp.merge(df_kind, left_on='kind', right_on='name', how='left')\n",
    "tmp = tmp.merge(df_genre[['id', 'genre_id']], on='id', how='left')\n",
    "tmp = tmp[['id', 'author_id', 'genre_id', 'kind_id']].rename(columns={'id': 'product_id'})\n",
    "\n",
    "df_product = tmp.merge(df_product, on='product_id', how='left')\n",
    "print(len(df_product))\n",
    "df_product.head(2)"
   ]
  },
  {
   "cell_type": "code",
   "execution_count": 15,
   "id": "bbab0f6a",
   "metadata": {},
   "outputs": [
    {
     "name": "stdout",
     "output_type": "stream",
     "text": [
      "28\n"
     ]
    },
    {
     "data": {
      "text/html": [
       "<div>\n",
       "<style scoped>\n",
       "    .dataframe tbody tr th:only-of-type {\n",
       "        vertical-align: middle;\n",
       "    }\n",
       "\n",
       "    .dataframe tbody tr th {\n",
       "        vertical-align: top;\n",
       "    }\n",
       "\n",
       "    .dataframe thead th {\n",
       "        text-align: right;\n",
       "    }\n",
       "</style>\n",
       "<table border=\"1\" class=\"dataframe\">\n",
       "  <thead>\n",
       "    <tr style=\"text-align: right;\">\n",
       "      <th></th>\n",
       "      <th>genre_id</th>\n",
       "      <th>name</th>\n",
       "      <th>url</th>\n",
       "    </tr>\n",
       "  </thead>\n",
       "  <tbody>\n",
       "    <tr>\n",
       "      <th>0</th>\n",
       "      <td>6007</td>\n",
       "      <td>Производительность</td>\n",
       "      <td>https://itunes.apple.com/ru/genre/id6007</td>\n",
       "    </tr>\n",
       "    <tr>\n",
       "      <th>1</th>\n",
       "      <td>6012</td>\n",
       "      <td>Образ жизни</td>\n",
       "      <td>https://itunes.apple.com/ru/genre/id6012</td>\n",
       "    </tr>\n",
       "  </tbody>\n",
       "</table>\n",
       "</div>"
      ],
      "text/plain": [
       "  genre_id                name                                       url\n",
       "0     6007  Производительность  https://itunes.apple.com/ru/genre/id6007\n",
       "1     6012         Образ жизни  https://itunes.apple.com/ru/genre/id6012"
      ]
     },
     "execution_count": 15,
     "metadata": {},
     "output_type": "execute_result"
    }
   ],
   "source": [
    "# удаляем дубликаты в таблице с жанрами\n",
    "df_genre = df_genre.drop('id', axis=1).drop_duplicates().reset_index(drop=True)\n",
    "print(len(df_genre))\n",
    "df_genre.head(2)"
   ]
  },
  {
   "attachments": {},
   "cell_type": "markdown",
   "id": "e922a0c2",
   "metadata": {},
   "source": [
    "В итоге в БД мы загружаем 5 таблиц:\n",
    "- `product_rating` с данными о рейтинге для каждого продукта на момент выгрузки топа;\n",
    "- `product` с информацией о продуктах и внешними ключами к другим расширениям;\n",
    "- `author` с уникальными авторами;\n",
    "- `genre` с уникальными жанрами и данными о них;\n",
    "- `kind` с типом приложения. \n",
    "\n",
    "После того, как первичная порция данных будет загружена, в БД информация будет сохранятся неравномерно. На каждой итерации заливки данных в БД мы будем добавлять всю партицию в таблицу `product_rating`, а в остальные - только уникальные, т.е. если этих данных в таблице еще нет. "
   ]
  },
  {
   "cell_type": "code",
   "execution_count": null,
   "id": "0f765b92",
   "metadata": {},
   "outputs": [],
   "source": []
  }
 ],
 "metadata": {
  "kernelspec": {
   "display_name": "Python 3 (ipykernel)",
   "language": "python",
   "name": "python3"
  },
  "language_info": {
   "codemirror_mode": {
    "name": "ipython",
    "version": 3
   },
   "file_extension": ".py",
   "mimetype": "text/x-python",
   "name": "python",
   "nbconvert_exporter": "python",
   "pygments_lexer": "ipython3",
   "version": "3.10.6"
  }
 },
 "nbformat": 4,
 "nbformat_minor": 5
}
