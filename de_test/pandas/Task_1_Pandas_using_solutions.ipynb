{
 "cells": [
  {
   "cell_type": "code",
   "execution_count": 23,
   "id": "216e9e63-7a96-4552-8ff2-72d871159892",
   "metadata": {},
   "outputs": [],
   "source": [
    "import sys\n",
    "sys.path.append('generate_data')\n",
    "from generator import *\n",
    "import pandas as pd"
   ]
  },
  {
   "attachments": {},
   "cell_type": "markdown",
   "id": "afe03cb0-5cb3-4859-9b68-788175d48021",
   "metadata": {},
   "source": [
    "<h4>The task involves developing a data pipeline to complete the user story above using sample data\n",
    "sources that will be provided.<br><br>\n",
    "Our data science team has reached out to our data engineering team requesting we pre-process\n",
    "some of the data for them at scale so that they can make better use of it in their downstream\n",
    "algorithms.<br><br>\n",
    "The input data sources are comprised of customers (in CSV format), transactions (in JSON Lines\n",
    "format) and products (in CSV format). Their details are presented below</h4>"
   ]
  },
  {
   "attachments": {},
   "cell_type": "markdown",
   "id": "175fdc4a-5e3e-46c0-afd0-d340134be8bf",
   "metadata": {
    "tags": []
   },
   "source": [
    "### Loading data\n",
    "\n",
    "##### Customers"
   ]
  },
  {
   "cell_type": "code",
   "execution_count": 24,
   "id": "9b48e5e9-1775-427a-a8c3-82f7271f19d3",
   "metadata": {},
   "outputs": [
    {
     "data": {
      "text/html": [
       "<div>\n",
       "<style scoped>\n",
       "    .dataframe tbody tr th:only-of-type {\n",
       "        vertical-align: middle;\n",
       "    }\n",
       "\n",
       "    .dataframe tbody tr th {\n",
       "        vertical-align: top;\n",
       "    }\n",
       "\n",
       "    .dataframe thead th {\n",
       "        text-align: right;\n",
       "    }\n",
       "</style>\n",
       "<table border=\"1\" class=\"dataframe\">\n",
       "  <thead>\n",
       "    <tr style=\"text-align: right;\">\n",
       "      <th></th>\n",
       "      <th>customer_id</th>\n",
       "      <th>loyalty_score</th>\n",
       "    </tr>\n",
       "  </thead>\n",
       "  <tbody>\n",
       "    <tr>\n",
       "      <th>0</th>\n",
       "      <td>C1</td>\n",
       "      <td>7</td>\n",
       "    </tr>\n",
       "    <tr>\n",
       "      <th>1</th>\n",
       "      <td>C2</td>\n",
       "      <td>4</td>\n",
       "    </tr>\n",
       "    <tr>\n",
       "      <th>2</th>\n",
       "      <td>C3</td>\n",
       "      <td>13</td>\n",
       "    </tr>\n",
       "    <tr>\n",
       "      <th>3</th>\n",
       "      <td>C4</td>\n",
       "      <td>11</td>\n",
       "    </tr>\n",
       "    <tr>\n",
       "      <th>4</th>\n",
       "      <td>C5</td>\n",
       "      <td>8</td>\n",
       "    </tr>\n",
       "  </tbody>\n",
       "</table>\n",
       "</div>"
      ],
      "text/plain": [
       "  customer_id  loyalty_score\n",
       "0          C1              7\n",
       "1          C2              4\n",
       "2          C3             13\n",
       "3          C4             11\n",
       "4          C5              8"
      ]
     },
     "execution_count": 24,
     "metadata": {},
     "output_type": "execute_result"
    }
   ],
   "source": [
    "df_customers = read_csv(os.path.join(output_location, 'customers.csv'))\n",
    "df_customers.head()"
   ]
  },
  {
   "cell_type": "code",
   "execution_count": 25,
   "id": "c3568160",
   "metadata": {},
   "outputs": [
    {
     "name": "stdout",
     "output_type": "stream",
     "text": [
      "<class 'pandas.core.frame.DataFrame'>\n",
      "RangeIndex: 137 entries, 0 to 136\n",
      "Data columns (total 2 columns):\n",
      " #   Column         Non-Null Count  Dtype \n",
      "---  ------         --------------  ----- \n",
      " 0   customer_id    137 non-null    object\n",
      " 1   loyalty_score  137 non-null    int64 \n",
      "dtypes: int64(1), object(1)\n",
      "memory usage: 2.3+ KB\n"
     ]
    }
   ],
   "source": [
    "df_customers.info()"
   ]
  },
  {
   "cell_type": "code",
   "execution_count": 26,
   "id": "716e8742",
   "metadata": {},
   "outputs": [
    {
     "name": "stdout",
     "output_type": "stream",
     "text": [
      "Всего строк: 137\n",
      "Количество дубликатов: 0\n",
      "Уникальных пользователей: 137\n"
     ]
    }
   ],
   "source": [
    "print('Всего строк:', len(df_customers))\n",
    "print('Количество дубликатов:', df_customers.duplicated().sum())\n",
    "print('Уникальных пользователей:', df_customers['customer_id'].nunique())"
   ]
  },
  {
   "attachments": {},
   "cell_type": "markdown",
   "id": "b526f1fc-180e-4b70-a0ef-c4fd7ecef0ff",
   "metadata": {},
   "source": [
    "##### Products"
   ]
  },
  {
   "cell_type": "code",
   "execution_count": 27,
   "id": "733fcef0-d090-487a-b331-1a9243d07d33",
   "metadata": {},
   "outputs": [
    {
     "data": {
      "text/html": [
       "<div>\n",
       "<style scoped>\n",
       "    .dataframe tbody tr th:only-of-type {\n",
       "        vertical-align: middle;\n",
       "    }\n",
       "\n",
       "    .dataframe tbody tr th {\n",
       "        vertical-align: top;\n",
       "    }\n",
       "\n",
       "    .dataframe thead th {\n",
       "        text-align: right;\n",
       "    }\n",
       "</style>\n",
       "<table border=\"1\" class=\"dataframe\">\n",
       "  <thead>\n",
       "    <tr style=\"text-align: right;\">\n",
       "      <th></th>\n",
       "      <th>product_id</th>\n",
       "      <th>product_description</th>\n",
       "      <th>product_category</th>\n",
       "    </tr>\n",
       "  </thead>\n",
       "  <tbody>\n",
       "    <tr>\n",
       "      <th>0</th>\n",
       "      <td>P01</td>\n",
       "      <td>detergent</td>\n",
       "      <td>house</td>\n",
       "    </tr>\n",
       "    <tr>\n",
       "      <th>1</th>\n",
       "      <td>P02</td>\n",
       "      <td>kitchen roll</td>\n",
       "      <td>house</td>\n",
       "    </tr>\n",
       "    <tr>\n",
       "      <th>2</th>\n",
       "      <td>P03</td>\n",
       "      <td>bin liners</td>\n",
       "      <td>house</td>\n",
       "    </tr>\n",
       "    <tr>\n",
       "      <th>3</th>\n",
       "      <td>P04</td>\n",
       "      <td>shower gel</td>\n",
       "      <td>house</td>\n",
       "    </tr>\n",
       "    <tr>\n",
       "      <th>4</th>\n",
       "      <td>P05</td>\n",
       "      <td>scented candles</td>\n",
       "      <td>house</td>\n",
       "    </tr>\n",
       "  </tbody>\n",
       "</table>\n",
       "</div>"
      ],
      "text/plain": [
       "  product_id product_description product_category\n",
       "0        P01           detergent            house\n",
       "1        P02        kitchen roll            house\n",
       "2        P03          bin liners            house\n",
       "3        P04          shower gel            house\n",
       "4        P05     scented candles            house"
      ]
     },
     "execution_count": 27,
     "metadata": {},
     "output_type": "execute_result"
    }
   ],
   "source": [
    "df_products = read_csv(os.path.join(output_location, 'products.csv'))\n",
    "df_products.head()"
   ]
  },
  {
   "cell_type": "code",
   "execution_count": 28,
   "id": "08bc3f62",
   "metadata": {},
   "outputs": [
    {
     "name": "stdout",
     "output_type": "stream",
     "text": [
      "Всего строк: 64\n",
      "Количество дубликатов: 0\n",
      "Уникальных категорий продуктов: 6\n",
      "['house' 'clothes' 'fruit_veg' 'sweets' 'food' 'bws']\n"
     ]
    }
   ],
   "source": [
    "print('Всего строк:', len(df_products))\n",
    "print('Количество дубликатов:', df_products.duplicated().sum())\n",
    "print('Уникальных категорий продуктов:', df_products['product_category'].nunique())\n",
    "print(df_products['product_category'].unique())"
   ]
  },
  {
   "attachments": {},
   "cell_type": "markdown",
   "id": "663695d2-6206-4fa6-9ae5-afa5b4b0585f",
   "metadata": {},
   "source": [
    "##### Transactions"
   ]
  },
  {
   "cell_type": "code",
   "execution_count": 29,
   "id": "91f81177-af39-4773-b686-61b65f8c57a6",
   "metadata": {},
   "outputs": [
    {
     "data": {
      "text/html": [
       "<div>\n",
       "<style scoped>\n",
       "    .dataframe tbody tr th:only-of-type {\n",
       "        vertical-align: middle;\n",
       "    }\n",
       "\n",
       "    .dataframe tbody tr th {\n",
       "        vertical-align: top;\n",
       "    }\n",
       "\n",
       "    .dataframe thead th {\n",
       "        text-align: right;\n",
       "    }\n",
       "</style>\n",
       "<table border=\"1\" class=\"dataframe\">\n",
       "  <thead>\n",
       "    <tr style=\"text-align: right;\">\n",
       "      <th></th>\n",
       "      <th>customer_id</th>\n",
       "      <th>basket</th>\n",
       "      <th>date_of_purchase</th>\n",
       "    </tr>\n",
       "  </thead>\n",
       "  <tbody>\n",
       "    <tr>\n",
       "      <th>0</th>\n",
       "      <td>C2</td>\n",
       "      <td>[{'product_id': 'P31', 'price': 909}]</td>\n",
       "      <td>2023-04-10 12:19:05.976681</td>\n",
       "    </tr>\n",
       "    <tr>\n",
       "      <th>1</th>\n",
       "      <td>C3</td>\n",
       "      <td>[{'product_id': 'P32', 'price': 382}, {'produc...</td>\n",
       "      <td>2023-04-10 07:08:05.976681</td>\n",
       "    </tr>\n",
       "    <tr>\n",
       "      <th>2</th>\n",
       "      <td>C6</td>\n",
       "      <td>[{'product_id': 'P13', 'price': 1060}, {'produ...</td>\n",
       "      <td>2023-04-09 22:05:05.976681</td>\n",
       "    </tr>\n",
       "    <tr>\n",
       "      <th>3</th>\n",
       "      <td>C13</td>\n",
       "      <td>[{'product_id': 'P35', 'price': 1416}, {'produ...</td>\n",
       "      <td>2023-04-10 07:36:05.976681</td>\n",
       "    </tr>\n",
       "    <tr>\n",
       "      <th>4</th>\n",
       "      <td>C15</td>\n",
       "      <td>[{'product_id': 'P34', 'price': 761}]</td>\n",
       "      <td>2023-04-10 12:43:05.976681</td>\n",
       "    </tr>\n",
       "  </tbody>\n",
       "</table>\n",
       "</div>"
      ],
      "text/plain": [
       "  customer_id                                             basket  \\\n",
       "0          C2              [{'product_id': 'P31', 'price': 909}]   \n",
       "1          C3  [{'product_id': 'P32', 'price': 382}, {'produc...   \n",
       "2          C6  [{'product_id': 'P13', 'price': 1060}, {'produ...   \n",
       "3         C13  [{'product_id': 'P35', 'price': 1416}, {'produ...   \n",
       "4         C15              [{'product_id': 'P34', 'price': 761}]   \n",
       "\n",
       "             date_of_purchase  \n",
       "0  2023-04-10 12:19:05.976681  \n",
       "1  2023-04-10 07:08:05.976681  \n",
       "2  2023-04-09 22:05:05.976681  \n",
       "3  2023-04-10 07:36:05.976681  \n",
       "4  2023-04-10 12:43:05.976681  "
      ]
     },
     "execution_count": 29,
     "metadata": {},
     "output_type": "execute_result"
    }
   ],
   "source": [
    "df_transactions = read_json_folder(os.path.join(output_location, 'transactions',''))\n",
    "df_transactions.head()"
   ]
  },
  {
   "cell_type": "code",
   "execution_count": 30,
   "id": "e6cbb38c",
   "metadata": {},
   "outputs": [
    {
     "name": "stdout",
     "output_type": "stream",
     "text": [
      "<class 'pandas.core.frame.DataFrame'>\n",
      "Index: 2445 entries, 0 to 25\n",
      "Data columns (total 3 columns):\n",
      " #   Column            Non-Null Count  Dtype \n",
      "---  ------            --------------  ----- \n",
      " 0   customer_id       2445 non-null   object\n",
      " 1   basket            2445 non-null   object\n",
      " 2   date_of_purchase  2445 non-null   object\n",
      "dtypes: object(3)\n",
      "memory usage: 76.4+ KB\n"
     ]
    }
   ],
   "source": [
    "df_transactions.info()"
   ]
  },
  {
   "cell_type": "code",
   "execution_count": 31,
   "id": "d9d41cd4",
   "metadata": {},
   "outputs": [
    {
     "name": "stdout",
     "output_type": "stream",
     "text": [
      "Всего строк: 2445\n",
      "Уникальных клиеннтов: 137\n",
      "True\n"
     ]
    }
   ],
   "source": [
    "print('Всего строк:', len(df_transactions))\n",
    "print('Уникальных клиеннтов:', df_transactions['customer_id'].nunique())\n",
    "print(df_transactions['customer_id'].nunique() == df_customers['customer_id'].nunique())"
   ]
  },
  {
   "cell_type": "code",
   "execution_count": 32,
   "id": "39cbb295",
   "metadata": {},
   "outputs": [
    {
     "data": {
      "text/html": [
       "<div>\n",
       "<style scoped>\n",
       "    .dataframe tbody tr th:only-of-type {\n",
       "        vertical-align: middle;\n",
       "    }\n",
       "\n",
       "    .dataframe tbody tr th {\n",
       "        vertical-align: top;\n",
       "    }\n",
       "\n",
       "    .dataframe thead th {\n",
       "        text-align: right;\n",
       "    }\n",
       "</style>\n",
       "<table border=\"1\" class=\"dataframe\">\n",
       "  <thead>\n",
       "    <tr style=\"text-align: right;\">\n",
       "      <th></th>\n",
       "      <th>customer_id</th>\n",
       "      <th>basket</th>\n",
       "      <th>date_of_purchase</th>\n",
       "      <th>products</th>\n",
       "    </tr>\n",
       "  </thead>\n",
       "  <tbody>\n",
       "    <tr>\n",
       "      <th>23</th>\n",
       "      <td>C111</td>\n",
       "      <td>[{'product_id': 'P23', 'price': 1807}, {'produ...</td>\n",
       "      <td>2023-05-08 02:54:05.976681</td>\n",
       "      <td>[P23, P24]</td>\n",
       "    </tr>\n",
       "    <tr>\n",
       "      <th>19</th>\n",
       "      <td>C86</td>\n",
       "      <td>[{'product_id': 'P39', 'price': 226}, {'produc...</td>\n",
       "      <td>2023-04-09 23:44:05.976681</td>\n",
       "      <td>[P39, P36, P37]</td>\n",
       "    </tr>\n",
       "  </tbody>\n",
       "</table>\n",
       "</div>"
      ],
      "text/plain": [
       "   customer_id                                             basket  \\\n",
       "23        C111  [{'product_id': 'P23', 'price': 1807}, {'produ...   \n",
       "19         C86  [{'product_id': 'P39', 'price': 226}, {'produc...   \n",
       "\n",
       "              date_of_purchase         products  \n",
       "23  2023-05-08 02:54:05.976681       [P23, P24]  \n",
       "19  2023-04-09 23:44:05.976681  [P39, P36, P37]  "
      ]
     },
     "execution_count": 32,
     "metadata": {},
     "output_type": "execute_result"
    }
   ],
   "source": [
    "# вытаскиваем значения `product_id` из списка словарей для каждого клиента\n",
    "\n",
    "from ast import literal_eval\n",
    "\n",
    "df_transactions['basket'] = df_transactions['basket'].apply(str).apply(literal_eval)\n",
    "df_transactions['products'] = df_transactions['basket'].apply(lambda x: \n",
    "                                                                [elm['product_id'] for elm in x])\n",
    "\n",
    "df_transactions.sample(2)"
   ]
  },
  {
   "cell_type": "code",
   "execution_count": 36,
   "id": "8786952a",
   "metadata": {},
   "outputs": [
    {
     "name": "stdout",
     "output_type": "stream",
     "text": [
      "Уникальных клиеннтов: 137\n",
      "Общее количество купленных продуктов: 2323\n"
     ]
    }
   ],
   "source": [
    "from collections import Counter\n",
    "\n",
    "# группируем транзакции по клиентам\n",
    "tmp = df_transactions.groupby('customer_id').agg({'products': sum}).reset_index()\n",
    "print('Уникальных клиеннтов:', len(tmp))\n",
    "\n",
    "#  считаем количество купленных продуктов для каждого `product_id`\n",
    "tmp['product_cnt'] = tmp['products'].apply(lambda x: Counter(x))\n",
    "tmp['product_id'] = tmp['product_cnt'].apply(lambda x: [k for k in x])\n",
    "tmp['purchaise_count'] = tmp['product_cnt'].apply(lambda x: [v for v in x.values()])\n",
    "\n",
    "# создаеем вспомогательный столбец для проверки результатов объединения\n",
    "tmp['len'] = tmp['product_cnt'].apply(len)\n",
    "print('Общее количество купленных продуктов:', tmp['len'].sum())"
   ]
  },
  {
   "cell_type": "code",
   "execution_count": 12,
   "id": "f80c85c7",
   "metadata": {},
   "outputs": [
    {
     "name": "stdout",
     "output_type": "stream",
     "text": [
      "Длина итогового датасета: 2323\n",
      "True\n"
     ]
    },
    {
     "data": {
      "text/html": [
       "<div>\n",
       "<style scoped>\n",
       "    .dataframe tbody tr th:only-of-type {\n",
       "        vertical-align: middle;\n",
       "    }\n",
       "\n",
       "    .dataframe tbody tr th {\n",
       "        vertical-align: top;\n",
       "    }\n",
       "\n",
       "    .dataframe thead th {\n",
       "        text-align: right;\n",
       "    }\n",
       "</style>\n",
       "<table border=\"1\" class=\"dataframe\">\n",
       "  <thead>\n",
       "    <tr style=\"text-align: right;\">\n",
       "      <th></th>\n",
       "      <th>customer_id</th>\n",
       "      <th>product_id</th>\n",
       "      <th>purchaise_count</th>\n",
       "    </tr>\n",
       "  </thead>\n",
       "  <tbody>\n",
       "    <tr>\n",
       "      <th>0</th>\n",
       "      <td>C1</td>\n",
       "      <td>P37</td>\n",
       "      <td>16</td>\n",
       "    </tr>\n",
       "    <tr>\n",
       "      <th>1</th>\n",
       "      <td>C1</td>\n",
       "      <td>P40</td>\n",
       "      <td>15</td>\n",
       "    </tr>\n",
       "    <tr>\n",
       "      <th>2</th>\n",
       "      <td>C1</td>\n",
       "      <td>P38</td>\n",
       "      <td>8</td>\n",
       "    </tr>\n",
       "  </tbody>\n",
       "</table>\n",
       "</div>"
      ],
      "text/plain": [
       "  customer_id product_id purchaise_count\n",
       "0          C1        P37              16\n",
       "1          C1        P40              15\n",
       "2          C1        P38               8"
      ]
     },
     "execution_count": 12,
     "metadata": {},
     "output_type": "execute_result"
    }
   ],
   "source": [
    "# готовим основу итогового датасета: удаляем лишнее и разбиваем продукты по позициям для каждого клиента\n",
    "\n",
    "df = (tmp.drop(['products', 'product_cnt', 'len'], axis=1)\n",
    "               .explode(['product_id', 'purchaise_count']).reset_index(drop=True))\n",
    "print('Длина итогового датасета:', df.shape[0])\n",
    "print(tmp['len'].sum() == df.shape[0])\n",
    "df.head(3)"
   ]
  },
  {
   "cell_type": "code",
   "execution_count": 13,
   "id": "c9bf5cf8",
   "metadata": {},
   "outputs": [
    {
     "name": "stdout",
     "output_type": "stream",
     "text": [
      "(2323, 5)\n"
     ]
    },
    {
     "data": {
      "text/html": [
       "<div>\n",
       "<style scoped>\n",
       "    .dataframe tbody tr th:only-of-type {\n",
       "        vertical-align: middle;\n",
       "    }\n",
       "\n",
       "    .dataframe tbody tr th {\n",
       "        vertical-align: top;\n",
       "    }\n",
       "\n",
       "    .dataframe thead th {\n",
       "        text-align: right;\n",
       "    }\n",
       "</style>\n",
       "<table border=\"1\" class=\"dataframe\">\n",
       "  <thead>\n",
       "    <tr style=\"text-align: right;\">\n",
       "      <th></th>\n",
       "      <th>customer_id</th>\n",
       "      <th>loyalty_score</th>\n",
       "      <th>product_id</th>\n",
       "      <th>product_category</th>\n",
       "      <th>purchaise_count</th>\n",
       "    </tr>\n",
       "  </thead>\n",
       "  <tbody>\n",
       "    <tr>\n",
       "      <th>0</th>\n",
       "      <td>C1</td>\n",
       "      <td>7</td>\n",
       "      <td>P37</td>\n",
       "      <td>sweets</td>\n",
       "      <td>16</td>\n",
       "    </tr>\n",
       "    <tr>\n",
       "      <th>1</th>\n",
       "      <td>C1</td>\n",
       "      <td>7</td>\n",
       "      <td>P40</td>\n",
       "      <td>sweets</td>\n",
       "      <td>15</td>\n",
       "    </tr>\n",
       "    <tr>\n",
       "      <th>2</th>\n",
       "      <td>C1</td>\n",
       "      <td>7</td>\n",
       "      <td>P38</td>\n",
       "      <td>sweets</td>\n",
       "      <td>8</td>\n",
       "    </tr>\n",
       "  </tbody>\n",
       "</table>\n",
       "</div>"
      ],
      "text/plain": [
       "  customer_id  loyalty_score product_id product_category purchaise_count\n",
       "0          C1              7        P37           sweets              16\n",
       "1          C1              7        P40           sweets              15\n",
       "2          C1              7        P38           sweets               8"
      ]
     },
     "execution_count": 13,
     "metadata": {},
     "output_type": "execute_result"
    }
   ],
   "source": [
    "# присоединяем информацию о категории продуктов и пользователях\n",
    "\n",
    "df = pd.merge(df, df_products.drop('product_description', axis=1), on='product_id', how='left')\n",
    "df = pd.merge(df, df_customers, on='customer_id', how='left')\n",
    "\n",
    "cols = ['customer_id', 'loyalty_score', 'product_id', 'product_category', 'purchaise_count']\n",
    "df = df[cols].copy()\n",
    "print(df.shape)\n",
    "df.head(3)"
   ]
  },
  {
   "attachments": {},
   "cell_type": "markdown",
   "id": "7afeb8b1",
   "metadata": {},
   "source": [
    "Проверям, все ли сходится:"
   ]
  },
  {
   "cell_type": "code",
   "execution_count": 15,
   "id": "28136b94",
   "metadata": {},
   "outputs": [
    {
     "data": {
      "text/plain": [
       "True"
      ]
     },
     "execution_count": 15,
     "metadata": {},
     "output_type": "execute_result"
    }
   ],
   "source": [
    "tmp  = (df.groupby(['customer_id', 'loyalty_score'])\n",
    "            .agg({'customer_id': 'nunique'})\n",
    "            .rename(columns={'customer_id': 'id_cnt'})\n",
    "            .reset_index()\n",
    "            )\n",
    "\n",
    "Counter(tmp['loyalty_score'].to_list()) == Counter(df_customers['loyalty_score'].to_list()) "
   ]
  },
  {
   "cell_type": "code",
   "execution_count": 16,
   "id": "26ae0d1a",
   "metadata": {},
   "outputs": [
    {
     "data": {
      "text/html": [
       "<div>\n",
       "<style scoped>\n",
       "    .dataframe tbody tr th:only-of-type {\n",
       "        vertical-align: middle;\n",
       "    }\n",
       "\n",
       "    .dataframe tbody tr th {\n",
       "        vertical-align: top;\n",
       "    }\n",
       "\n",
       "    .dataframe thead th {\n",
       "        text-align: right;\n",
       "    }\n",
       "</style>\n",
       "<table border=\"1\" class=\"dataframe\">\n",
       "  <thead>\n",
       "    <tr style=\"text-align: right;\">\n",
       "      <th></th>\n",
       "      <th>index</th>\n",
       "      <th>customer_id</th>\n",
       "      <th>loyalty_score</th>\n",
       "    </tr>\n",
       "  </thead>\n",
       "  <tbody>\n",
       "    <tr>\n",
       "      <th>0</th>\n",
       "      <td>0</td>\n",
       "      <td>C1</td>\n",
       "      <td>7</td>\n",
       "    </tr>\n",
       "    <tr>\n",
       "      <th>1</th>\n",
       "      <td>9</td>\n",
       "      <td>C10</td>\n",
       "      <td>3</td>\n",
       "    </tr>\n",
       "    <tr>\n",
       "      <th>2</th>\n",
       "      <td>99</td>\n",
       "      <td>C100</td>\n",
       "      <td>14</td>\n",
       "    </tr>\n",
       "    <tr>\n",
       "      <th>3</th>\n",
       "      <td>100</td>\n",
       "      <td>C101</td>\n",
       "      <td>7</td>\n",
       "    </tr>\n",
       "    <tr>\n",
       "      <th>4</th>\n",
       "      <td>101</td>\n",
       "      <td>C102</td>\n",
       "      <td>12</td>\n",
       "    </tr>\n",
       "    <tr>\n",
       "      <th>...</th>\n",
       "      <td>...</td>\n",
       "      <td>...</td>\n",
       "      <td>...</td>\n",
       "    </tr>\n",
       "    <tr>\n",
       "      <th>132</th>\n",
       "      <td>94</td>\n",
       "      <td>C95</td>\n",
       "      <td>10</td>\n",
       "    </tr>\n",
       "    <tr>\n",
       "      <th>133</th>\n",
       "      <td>95</td>\n",
       "      <td>C96</td>\n",
       "      <td>14</td>\n",
       "    </tr>\n",
       "    <tr>\n",
       "      <th>134</th>\n",
       "      <td>96</td>\n",
       "      <td>C97</td>\n",
       "      <td>4</td>\n",
       "    </tr>\n",
       "    <tr>\n",
       "      <th>135</th>\n",
       "      <td>97</td>\n",
       "      <td>C98</td>\n",
       "      <td>14</td>\n",
       "    </tr>\n",
       "    <tr>\n",
       "      <th>136</th>\n",
       "      <td>98</td>\n",
       "      <td>C99</td>\n",
       "      <td>8</td>\n",
       "    </tr>\n",
       "  </tbody>\n",
       "</table>\n",
       "<p>137 rows × 3 columns</p>\n",
       "</div>"
      ],
      "text/plain": [
       "     index customer_id  loyalty_score\n",
       "0        0          C1              7\n",
       "1        9         C10              3\n",
       "2       99        C100             14\n",
       "3      100        C101              7\n",
       "4      101        C102             12\n",
       "..     ...         ...            ...\n",
       "132     94         C95             10\n",
       "133     95         C96             14\n",
       "134     96         C97              4\n",
       "135     97         C98             14\n",
       "136     98         C99              8\n",
       "\n",
       "[137 rows x 3 columns]"
      ]
     },
     "execution_count": 16,
     "metadata": {},
     "output_type": "execute_result"
    }
   ],
   "source": [
    "df_customers.sort_values('customer_id').reset_index()"
   ]
  },
  {
   "cell_type": "code",
   "execution_count": 17,
   "id": "3e52f0dc",
   "metadata": {},
   "outputs": [
    {
     "data": {
      "text/html": [
       "<div>\n",
       "<style scoped>\n",
       "    .dataframe tbody tr th:only-of-type {\n",
       "        vertical-align: middle;\n",
       "    }\n",
       "\n",
       "    .dataframe tbody tr th {\n",
       "        vertical-align: top;\n",
       "    }\n",
       "\n",
       "    .dataframe thead tr th {\n",
       "        text-align: left;\n",
       "    }\n",
       "</style>\n",
       "<table border=\"1\" class=\"dataframe\">\n",
       "  <thead>\n",
       "    <tr>\n",
       "      <th></th>\n",
       "      <th>customer_id</th>\n",
       "      <th>loyalty_score</th>\n",
       "      <th>customer_id</th>\n",
       "    </tr>\n",
       "    <tr>\n",
       "      <th></th>\n",
       "      <th></th>\n",
       "      <th></th>\n",
       "      <th>tmp</th>\n",
       "    </tr>\n",
       "  </thead>\n",
       "  <tbody>\n",
       "    <tr>\n",
       "      <th>0</th>\n",
       "      <td>C1</td>\n",
       "      <td>7</td>\n",
       "      <td>1</td>\n",
       "    </tr>\n",
       "    <tr>\n",
       "      <th>1</th>\n",
       "      <td>C10</td>\n",
       "      <td>3</td>\n",
       "      <td>1</td>\n",
       "    </tr>\n",
       "    <tr>\n",
       "      <th>2</th>\n",
       "      <td>C100</td>\n",
       "      <td>14</td>\n",
       "      <td>1</td>\n",
       "    </tr>\n",
       "    <tr>\n",
       "      <th>3</th>\n",
       "      <td>C101</td>\n",
       "      <td>7</td>\n",
       "      <td>1</td>\n",
       "    </tr>\n",
       "    <tr>\n",
       "      <th>4</th>\n",
       "      <td>C102</td>\n",
       "      <td>12</td>\n",
       "      <td>1</td>\n",
       "    </tr>\n",
       "    <tr>\n",
       "      <th>...</th>\n",
       "      <td>...</td>\n",
       "      <td>...</td>\n",
       "      <td>...</td>\n",
       "    </tr>\n",
       "    <tr>\n",
       "      <th>132</th>\n",
       "      <td>C95</td>\n",
       "      <td>10</td>\n",
       "      <td>1</td>\n",
       "    </tr>\n",
       "    <tr>\n",
       "      <th>133</th>\n",
       "      <td>C96</td>\n",
       "      <td>14</td>\n",
       "      <td>1</td>\n",
       "    </tr>\n",
       "    <tr>\n",
       "      <th>134</th>\n",
       "      <td>C97</td>\n",
       "      <td>4</td>\n",
       "      <td>1</td>\n",
       "    </tr>\n",
       "    <tr>\n",
       "      <th>135</th>\n",
       "      <td>C98</td>\n",
       "      <td>14</td>\n",
       "      <td>1</td>\n",
       "    </tr>\n",
       "    <tr>\n",
       "      <th>136</th>\n",
       "      <td>C99</td>\n",
       "      <td>8</td>\n",
       "      <td>1</td>\n",
       "    </tr>\n",
       "  </tbody>\n",
       "</table>\n",
       "<p>137 rows × 3 columns</p>\n",
       "</div>"
      ],
      "text/plain": [
       "    customer_id loyalty_score customer_id\n",
       "                                      tmp\n",
       "0            C1             7           1\n",
       "1           C10             3           1\n",
       "2          C100            14           1\n",
       "3          C101             7           1\n",
       "4          C102            12           1\n",
       "..          ...           ...         ...\n",
       "132         C95            10           1\n",
       "133         C96            14           1\n",
       "134         C97             4           1\n",
       "135         C98            14           1\n",
       "136         C99             8           1\n",
       "\n",
       "[137 rows x 3 columns]"
      ]
     },
     "execution_count": 17,
     "metadata": {},
     "output_type": "execute_result"
    }
   ],
   "source": [
    "df.groupby(['customer_id', 'loyalty_score']).agg({'customer_id': [('tmp', 'nunique')]}).reset_index()"
   ]
  },
  {
   "attachments": {},
   "cell_type": "markdown",
   "id": "2d571253",
   "metadata": {},
   "source": [
    "Я вытащила покупки из `df_transactions`, сгруппировала их по пользователям и посчитала количество для каждого типа продукта. Затем вновь разбила их, чтобы присоединить категории продукта и данные о лояльности пользователей. \n",
    "\n",
    "Для передачи данных я написала скрипт с пайплайном `customers_transactions.py`, который сохраняет итоговый датасет в формте `.csv`."
   ]
  },
  {
   "cell_type": "code",
   "execution_count": 19,
   "id": "55cb2f9c",
   "metadata": {},
   "outputs": [],
   "source": [
    "# # получившийся датасет можно сохранить в нужном формате, например .csv и передать в DS.\n",
    "\n",
    "# import os\n",
    "\n",
    "# output_data = './output_data'\n",
    "# os.makedirs(output_data, exist_ok=True)\n",
    "\n",
    "# df.to_csv(os.path.join(output_data, 'customer_products_purchase.csv'), index=False)"
   ]
  },
  {
   "cell_type": "code",
   "execution_count": 37,
   "id": "1a9791c7",
   "metadata": {},
   "outputs": [
    {
     "data": {
      "text/html": [
       "<div>\n",
       "<style scoped>\n",
       "    .dataframe tbody tr th:only-of-type {\n",
       "        vertical-align: middle;\n",
       "    }\n",
       "\n",
       "    .dataframe tbody tr th {\n",
       "        vertical-align: top;\n",
       "    }\n",
       "\n",
       "    .dataframe thead th {\n",
       "        text-align: right;\n",
       "    }\n",
       "</style>\n",
       "<table border=\"1\" class=\"dataframe\">\n",
       "  <thead>\n",
       "    <tr style=\"text-align: right;\">\n",
       "      <th></th>\n",
       "      <th>customer_id</th>\n",
       "      <th>loyalty_score</th>\n",
       "      <th>product_id</th>\n",
       "      <th>product_category</th>\n",
       "      <th>purchaise_count</th>\n",
       "    </tr>\n",
       "  </thead>\n",
       "  <tbody>\n",
       "    <tr>\n",
       "      <th>0</th>\n",
       "      <td>C1</td>\n",
       "      <td>7</td>\n",
       "      <td>P37</td>\n",
       "      <td>sweets</td>\n",
       "      <td>16</td>\n",
       "    </tr>\n",
       "    <tr>\n",
       "      <th>1</th>\n",
       "      <td>C1</td>\n",
       "      <td>7</td>\n",
       "      <td>P40</td>\n",
       "      <td>sweets</td>\n",
       "      <td>15</td>\n",
       "    </tr>\n",
       "    <tr>\n",
       "      <th>2</th>\n",
       "      <td>C1</td>\n",
       "      <td>7</td>\n",
       "      <td>P38</td>\n",
       "      <td>sweets</td>\n",
       "      <td>8</td>\n",
       "    </tr>\n",
       "    <tr>\n",
       "      <th>3</th>\n",
       "      <td>C1</td>\n",
       "      <td>7</td>\n",
       "      <td>P35</td>\n",
       "      <td>sweets</td>\n",
       "      <td>9</td>\n",
       "    </tr>\n",
       "    <tr>\n",
       "      <th>4</th>\n",
       "      <td>C1</td>\n",
       "      <td>7</td>\n",
       "      <td>P39</td>\n",
       "      <td>sweets</td>\n",
       "      <td>8</td>\n",
       "    </tr>\n",
       "  </tbody>\n",
       "</table>\n",
       "</div>"
      ],
      "text/plain": [
       "  customer_id  loyalty_score product_id product_category  purchaise_count\n",
       "0          C1              7        P37           sweets               16\n",
       "1          C1              7        P40           sweets               15\n",
       "2          C1              7        P38           sweets                8\n",
       "3          C1              7        P35           sweets                9\n",
       "4          C1              7        P39           sweets                8"
      ]
     },
     "execution_count": 37,
     "metadata": {},
     "output_type": "execute_result"
    }
   ],
   "source": [
    "# df = pd.read_csv(os.path.join(output_data, 'customer_products_purchase.csv'))\n",
    "# df.head()"
   ]
  },
  {
   "attachments": {},
   "cell_type": "markdown",
   "id": "8f2ae438",
   "metadata": {},
   "source": []
  },
  {
   "attachments": {},
   "cell_type": "markdown",
   "id": "c088f923-3a96-4630-8b71-2e712a8d6a27",
   "metadata": {
    "tags": []
   },
   "source": [
    "### Task from Data Scientist\n",
    "\n",
    "As a data scientist I want to be able to consume a data source that\n",
    "contains information about how many times each of our customers\n",
    "buys our products in a given period, so that I can predict what they\n",
    "will buy next\n",
    "\n",
    "\n",
    "The output data source should contain information for every customer that has the following\n",
    "fields:"
   ]
  },
  {
   "attachments": {
    "8937c99a-2080-4671-822f-b21d065a820e.png": {
     "image/png": "[encoded data removed]"
    }
   },
   "cell_type": "markdown",
   "id": "5d0f4750-41ea-47ca-b117-21dfb3911703",
   "metadata": {},
   "source": [
    "![Снимок экрана от 2022-03-24 21-44-19.png](attachment:8937c99a-2080-4671-822f-b21d065a820e.png)"
   ]
  },
  {
   "cell_type": "code",
   "execution_count": null,
   "id": "38cd6f2b-d42c-4a38-b073-b1a241dc20ca",
   "metadata": {},
   "outputs": [],
   "source": []
  }
 ],
 "metadata": {
  "kernelspec": {
   "display_name": "Python 3 (ipykernel)",
   "language": "python",
   "name": "python3"
  },
  "language_info": {
   "codemirror_mode": {
    "name": "ipython",
    "version": 3
   },
   "file_extension": ".py",
   "mimetype": "text/x-python",
   "name": "python",
   "nbconvert_exporter": "python",
   "pygments_lexer": "ipython3",
   "version": "3.10.6"
  }
 },
 "nbformat": 4,
 "nbformat_minor": 5
}
