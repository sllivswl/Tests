{
 "cells": [
  {
   "cell_type": "markdown",
   "metadata": {},
   "source": [
    "# Расчет LTV"
   ]
  },
  {
   "cell_type": "markdown",
   "metadata": {},
   "source": [
    "### Задача: \n",
    "\n",
    "Вы работаете в небольшой компании, где есть маркетолог, но нет аналитика. Маркетолог просит вас определить LTV пользователя: это поможет определить затраты на привлечение новых клиентов.\n",
    "Вы посмотрели логи, там есть два набора данных: визиты пользователей на сервис и данные по покупкам. У каждого визита есть источник, а также устройство, с которого заходил пользователь. \n",
    "1. Чему на ваш взгляд равен LTV пользователей? \n",
    "2. Есть ли у вас рекомендации по его улучшению?\n"
   ]
  },
  {
   "cell_type": "markdown",
   "metadata": {},
   "source": [
    "<div id='step0'/>\n",
    "\n",
    "### Навигация:\n",
    "\n",
    "- [Описание данных](#step1)\n",
    "- [Импорт данных](#step2); \n",
    "- [Предобработка данных](#step3);\n",
    "- [Когортный анализ](#step4);\n",
    "- [Общий вывод](#step5)."
   ]
  },
  {
   "cell_type": "markdown",
   "metadata": {},
   "source": [
    "<div id='step1'/>\n",
    "\n",
    "## Описание данных:"
   ]
  },
  {
   "cell_type": "markdown",
   "metadata": {},
   "source": [
    "- `start_dt` — дата старта визита,\n",
    "- `start_ts` — дата и время старта визита,\n",
    "- `end_ts` — дата окончания визита,\n",
    "- `uid` — идентификатор пользователя,\n",
    "- `source_id` — id источника визита,\n",
    "- `device` — устройство,\n",
    "- `buy_ts` — дата и время покупки,\n",
    "- `revenue` — доход в y.e."
   ]
  },
  {
   "cell_type": "markdown",
   "metadata": {},
   "source": [
    "[В начало](#step0)"
   ]
  },
  {
   "cell_type": "markdown",
   "metadata": {},
   "source": [
    "<div id='step2'/>\n",
    "\n",
    "## Импорт данных:"
   ]
  },
  {
   "cell_type": "code",
   "execution_count": 1,
   "metadata": {},
   "outputs": [],
   "source": [
    "import pandas as pd\n",
    "import numpy as np\n",
    "import matplotlib.pyplot as plt\n",
    "import seaborn as sns"
   ]
  },
  {
   "cell_type": "code",
   "execution_count": 2,
   "metadata": {},
   "outputs": [],
   "source": [
    "p = pd.read_csv('purchases.csv', sep='\\t', parse_dates=[0],infer_datetime_format=True)"
   ]
  },
  {
   "cell_type": "markdown",
   "metadata": {},
   "source": [
    "[В начало](#step0)"
   ]
  },
  {
   "cell_type": "markdown",
   "metadata": {},
   "source": [
    "<div id='step3'/>\n",
    "\n",
    "## Предобработка данных:"
   ]
  },
  {
   "cell_type": "code",
   "execution_count": 3,
   "metadata": {},
   "outputs": [
    {
     "name": "stdout",
     "output_type": "stream",
     "text": [
      "<class 'pandas.core.frame.DataFrame'>\n",
      "RangeIndex: 75716 entries, 0 to 75715\n",
      "Data columns (total 3 columns):\n",
      " #   Column   Non-Null Count  Dtype         \n",
      "---  ------   --------------  -----         \n",
      " 0   buy_ts   75716 non-null  datetime64[ns]\n",
      " 1   uid      75716 non-null  int64         \n",
      " 2   revenue  75716 non-null  object        \n",
      "dtypes: datetime64[ns](1), int64(1), object(1)\n",
      "memory usage: 1.7+ MB\n"
     ]
    }
   ],
   "source": [
    "p.info()"
   ]
  },
  {
   "cell_type": "code",
   "execution_count": 4,
   "metadata": {},
   "outputs": [
    {
     "data": {
      "text/html": [
       "<div>\n",
       "<style scoped>\n",
       "    .dataframe tbody tr th:only-of-type {\n",
       "        vertical-align: middle;\n",
       "    }\n",
       "\n",
       "    .dataframe tbody tr th {\n",
       "        vertical-align: top;\n",
       "    }\n",
       "\n",
       "    .dataframe thead th {\n",
       "        text-align: right;\n",
       "    }\n",
       "</style>\n",
       "<table border=\"1\" class=\"dataframe\">\n",
       "  <thead>\n",
       "    <tr style=\"text-align: right;\">\n",
       "      <th></th>\n",
       "      <th>buy_ts</th>\n",
       "      <th>uid</th>\n",
       "      <th>revenue</th>\n",
       "    </tr>\n",
       "  </thead>\n",
       "  <tbody>\n",
       "    <tr>\n",
       "      <th>0</th>\n",
       "      <td>2016-07-23 19:13:54</td>\n",
       "      <td>3492372810</td>\n",
       "      <td>1,47</td>\n",
       "    </tr>\n",
       "    <tr>\n",
       "      <th>1</th>\n",
       "      <td>2016-11-06 02:48:27</td>\n",
       "      <td>1564753091</td>\n",
       "      <td>1,11</td>\n",
       "    </tr>\n",
       "    <tr>\n",
       "      <th>2</th>\n",
       "      <td>2017-01-31 20:32:42</td>\n",
       "      <td>1385616391</td>\n",
       "      <td>16,8</td>\n",
       "    </tr>\n",
       "    <tr>\n",
       "      <th>3</th>\n",
       "      <td>2017-01-11 10:52:11</td>\n",
       "      <td>2636761148</td>\n",
       "      <td>11</td>\n",
       "    </tr>\n",
       "    <tr>\n",
       "      <th>4</th>\n",
       "      <td>2016-11-25 18:57:09</td>\n",
       "      <td>2945629974</td>\n",
       "      <td>4,89</td>\n",
       "    </tr>\n",
       "  </tbody>\n",
       "</table>\n",
       "</div>"
      ],
      "text/plain": [
       "               buy_ts         uid revenue\n",
       "0 2016-07-23 19:13:54  3492372810    1,47\n",
       "1 2016-11-06 02:48:27  1564753091    1,11\n",
       "2 2017-01-31 20:32:42  1385616391    16,8\n",
       "3 2017-01-11 10:52:11  2636761148      11\n",
       "4 2016-11-25 18:57:09  2945629974    4,89"
      ]
     },
     "execution_count": 4,
     "metadata": {},
     "output_type": "execute_result"
    }
   ],
   "source": [
    "p.head()"
   ]
  },
  {
   "cell_type": "code",
   "execution_count": 5,
   "metadata": {},
   "outputs": [
    {
     "data": {
      "text/html": [
       "<div>\n",
       "<style scoped>\n",
       "    .dataframe tbody tr th:only-of-type {\n",
       "        vertical-align: middle;\n",
       "    }\n",
       "\n",
       "    .dataframe tbody tr th {\n",
       "        vertical-align: top;\n",
       "    }\n",
       "\n",
       "    .dataframe thead th {\n",
       "        text-align: right;\n",
       "    }\n",
       "</style>\n",
       "<table border=\"1\" class=\"dataframe\">\n",
       "  <thead>\n",
       "    <tr style=\"text-align: right;\">\n",
       "      <th></th>\n",
       "      <th>buy_ts</th>\n",
       "      <th>uid</th>\n",
       "      <th>revenue</th>\n",
       "    </tr>\n",
       "  </thead>\n",
       "  <tbody>\n",
       "    <tr>\n",
       "      <th>0</th>\n",
       "      <td>2016-07-23 19:13:54</td>\n",
       "      <td>3492372810</td>\n",
       "      <td>1.47</td>\n",
       "    </tr>\n",
       "    <tr>\n",
       "      <th>1</th>\n",
       "      <td>2016-11-06 02:48:27</td>\n",
       "      <td>1564753091</td>\n",
       "      <td>1.11</td>\n",
       "    </tr>\n",
       "    <tr>\n",
       "      <th>2</th>\n",
       "      <td>2017-01-31 20:32:42</td>\n",
       "      <td>1385616391</td>\n",
       "      <td>16.80</td>\n",
       "    </tr>\n",
       "    <tr>\n",
       "      <th>3</th>\n",
       "      <td>2017-01-11 10:52:11</td>\n",
       "      <td>2636761148</td>\n",
       "      <td>11.00</td>\n",
       "    </tr>\n",
       "    <tr>\n",
       "      <th>4</th>\n",
       "      <td>2016-11-25 18:57:09</td>\n",
       "      <td>2945629974</td>\n",
       "      <td>4.89</td>\n",
       "    </tr>\n",
       "  </tbody>\n",
       "</table>\n",
       "</div>"
      ],
      "text/plain": [
       "               buy_ts         uid  revenue\n",
       "0 2016-07-23 19:13:54  3492372810     1.47\n",
       "1 2016-11-06 02:48:27  1564753091     1.11\n",
       "2 2017-01-31 20:32:42  1385616391    16.80\n",
       "3 2017-01-11 10:52:11  2636761148    11.00\n",
       "4 2016-11-25 18:57:09  2945629974     4.89"
      ]
     },
     "execution_count": 5,
     "metadata": {},
     "output_type": "execute_result"
    }
   ],
   "source": [
    "p['revenue'] = p['revenue'].str.replace(\",\", \".\")\n",
    "p['revenue'] = p['revenue'].astype(float)\n",
    "p.head()"
   ]
  },
  {
   "cell_type": "code",
   "execution_count": 6,
   "metadata": {},
   "outputs": [],
   "source": [
    "v = pd.read_csv('visits.csv', sep='\\t', parse_dates=[1, 3, 4],infer_datetime_format=True)"
   ]
  },
  {
   "cell_type": "code",
   "execution_count": 7,
   "metadata": {},
   "outputs": [
    {
     "name": "stdout",
     "output_type": "stream",
     "text": [
      "<class 'pandas.core.frame.DataFrame'>\n",
      "RangeIndex: 720679 entries, 0 to 720678\n",
      "Data columns (total 6 columns):\n",
      " #   Column     Non-Null Count   Dtype         \n",
      "---  ------     --------------   -----         \n",
      " 0   device     720679 non-null  object        \n",
      " 1   end_ts     720679 non-null  datetime64[ns]\n",
      " 2   source_id  720679 non-null  int64         \n",
      " 3   start_dt   720679 non-null  datetime64[ns]\n",
      " 4   start_ts   720679 non-null  datetime64[ns]\n",
      " 5   uid        720679 non-null  int64         \n",
      "dtypes: datetime64[ns](3), int64(2), object(1)\n",
      "memory usage: 33.0+ MB\n"
     ]
    }
   ],
   "source": [
    "v.info()"
   ]
  },
  {
   "cell_type": "code",
   "execution_count": 8,
   "metadata": {},
   "outputs": [
    {
     "data": {
      "text/html": [
       "<div>\n",
       "<style scoped>\n",
       "    .dataframe tbody tr th:only-of-type {\n",
       "        vertical-align: middle;\n",
       "    }\n",
       "\n",
       "    .dataframe tbody tr th {\n",
       "        vertical-align: top;\n",
       "    }\n",
       "\n",
       "    .dataframe thead th {\n",
       "        text-align: right;\n",
       "    }\n",
       "</style>\n",
       "<table border=\"1\" class=\"dataframe\">\n",
       "  <thead>\n",
       "    <tr style=\"text-align: right;\">\n",
       "      <th></th>\n",
       "      <th>device</th>\n",
       "      <th>end_ts</th>\n",
       "      <th>source_id</th>\n",
       "      <th>start_dt</th>\n",
       "      <th>start_ts</th>\n",
       "      <th>uid</th>\n",
       "    </tr>\n",
       "  </thead>\n",
       "  <tbody>\n",
       "    <tr>\n",
       "      <th>0</th>\n",
       "      <td>desktop</td>\n",
       "      <td>2016-11-30 11:04:17</td>\n",
       "      <td>2</td>\n",
       "      <td>2016-11-30</td>\n",
       "      <td>2016-11-30 10:53:49</td>\n",
       "      <td>3758486201</td>\n",
       "    </tr>\n",
       "    <tr>\n",
       "      <th>1</th>\n",
       "      <td>desktop</td>\n",
       "      <td>2016-11-10 23:16:57</td>\n",
       "      <td>4</td>\n",
       "      <td>2016-11-10</td>\n",
       "      <td>2016-11-10 23:08:04</td>\n",
       "      <td>2933941628</td>\n",
       "    </tr>\n",
       "    <tr>\n",
       "      <th>2</th>\n",
       "      <td>desktop</td>\n",
       "      <td>2016-10-19 18:51:56</td>\n",
       "      <td>1</td>\n",
       "      <td>2016-10-19</td>\n",
       "      <td>2016-10-19 18:48:16</td>\n",
       "      <td>1465872791</td>\n",
       "    </tr>\n",
       "    <tr>\n",
       "      <th>3</th>\n",
       "      <td>desktop</td>\n",
       "      <td>2017-01-12 20:51:55</td>\n",
       "      <td>9</td>\n",
       "      <td>2017-01-12</td>\n",
       "      <td>2017-01-12 20:50:10</td>\n",
       "      <td>2751875787</td>\n",
       "    </tr>\n",
       "    <tr>\n",
       "      <th>4</th>\n",
       "      <td>touch</td>\n",
       "      <td>2016-07-23 19:17:19</td>\n",
       "      <td>4</td>\n",
       "      <td>2016-07-23</td>\n",
       "      <td>2016-07-23 19:10:57</td>\n",
       "      <td>3492372810</td>\n",
       "    </tr>\n",
       "  </tbody>\n",
       "</table>\n",
       "</div>"
      ],
      "text/plain": [
       "    device              end_ts  source_id   start_dt            start_ts  \\\n",
       "0  desktop 2016-11-30 11:04:17          2 2016-11-30 2016-11-30 10:53:49   \n",
       "1  desktop 2016-11-10 23:16:57          4 2016-11-10 2016-11-10 23:08:04   \n",
       "2  desktop 2016-10-19 18:51:56          1 2016-10-19 2016-10-19 18:48:16   \n",
       "3  desktop 2017-01-12 20:51:55          9 2017-01-12 2017-01-12 20:50:10   \n",
       "4    touch 2016-07-23 19:17:19          4 2016-07-23 2016-07-23 19:10:57   \n",
       "\n",
       "          uid  \n",
       "0  3758486201  \n",
       "1  2933941628  \n",
       "2  1465872791  \n",
       "3  2751875787  \n",
       "4  3492372810  "
      ]
     },
     "execution_count": 8,
     "metadata": {},
     "output_type": "execute_result"
    }
   ],
   "source": [
    "v.head()"
   ]
  },
  {
   "cell_type": "markdown",
   "metadata": {},
   "source": [
    "Я убедилась, что в данных нет пропусков и привела данные к соотвествующим типам. Расчета метрики LTV буду делать с помощью когортного анализа. "
   ]
  },
  {
   "cell_type": "markdown",
   "metadata": {},
   "source": [
    "[В начало](#step0)"
   ]
  },
  {
   "cell_type": "markdown",
   "metadata": {},
   "source": [
    "<div id='step4'/>\n",
    "\n",
    "## Когортный анализ"
   ]
  },
  {
   "cell_type": "markdown",
   "metadata": {},
   "source": [
    "Для этого используем таблицу `purchase`. Найдем дату первой покупки каждого покупателя; вычислим число новых покупателей за каждую дату; добавим дату первой покупки в таблицу с заказами; сгруппируем таблицу и посчитаем выручку."
   ]
  },
  {
   "cell_type": "code",
   "execution_count": 9,
   "metadata": {},
   "outputs": [
    {
     "data": {
      "text/html": [
       "<div>\n",
       "<style scoped>\n",
       "    .dataframe tbody tr th:only-of-type {\n",
       "        vertical-align: middle;\n",
       "    }\n",
       "\n",
       "    .dataframe tbody tr th {\n",
       "        vertical-align: top;\n",
       "    }\n",
       "\n",
       "    .dataframe thead th {\n",
       "        text-align: right;\n",
       "    }\n",
       "</style>\n",
       "<table border=\"1\" class=\"dataframe\">\n",
       "  <thead>\n",
       "    <tr style=\"text-align: right;\">\n",
       "      <th></th>\n",
       "      <th>buy_ts</th>\n",
       "      <th>uid</th>\n",
       "      <th>revenue</th>\n",
       "    </tr>\n",
       "  </thead>\n",
       "  <tbody>\n",
       "    <tr>\n",
       "      <th>0</th>\n",
       "      <td>2016-07-23 19:13:54</td>\n",
       "      <td>3492372810</td>\n",
       "      <td>1.47</td>\n",
       "    </tr>\n",
       "    <tr>\n",
       "      <th>1</th>\n",
       "      <td>2016-11-06 02:48:27</td>\n",
       "      <td>1564753091</td>\n",
       "      <td>1.11</td>\n",
       "    </tr>\n",
       "    <tr>\n",
       "      <th>2</th>\n",
       "      <td>2017-01-31 20:32:42</td>\n",
       "      <td>1385616391</td>\n",
       "      <td>16.80</td>\n",
       "    </tr>\n",
       "    <tr>\n",
       "      <th>3</th>\n",
       "      <td>2017-01-11 10:52:11</td>\n",
       "      <td>2636761148</td>\n",
       "      <td>11.00</td>\n",
       "    </tr>\n",
       "    <tr>\n",
       "      <th>4</th>\n",
       "      <td>2016-11-25 18:57:09</td>\n",
       "      <td>2945629974</td>\n",
       "      <td>4.89</td>\n",
       "    </tr>\n",
       "  </tbody>\n",
       "</table>\n",
       "</div>"
      ],
      "text/plain": [
       "               buy_ts         uid  revenue\n",
       "0 2016-07-23 19:13:54  3492372810     1.47\n",
       "1 2016-11-06 02:48:27  1564753091     1.11\n",
       "2 2017-01-31 20:32:42  1385616391    16.80\n",
       "3 2017-01-11 10:52:11  2636761148    11.00\n",
       "4 2016-11-25 18:57:09  2945629974     4.89"
      ]
     },
     "execution_count": 9,
     "metadata": {},
     "output_type": "execute_result"
    }
   ],
   "source": [
    "p.head()"
   ]
  },
  {
   "cell_type": "code",
   "execution_count": 10,
   "metadata": {},
   "outputs": [
    {
     "data": {
      "text/html": [
       "<div>\n",
       "<style scoped>\n",
       "    .dataframe tbody tr th:only-of-type {\n",
       "        vertical-align: middle;\n",
       "    }\n",
       "\n",
       "    .dataframe tbody tr th {\n",
       "        vertical-align: top;\n",
       "    }\n",
       "\n",
       "    .dataframe thead th {\n",
       "        text-align: right;\n",
       "    }\n",
       "</style>\n",
       "<table border=\"1\" class=\"dataframe\">\n",
       "  <thead>\n",
       "    <tr style=\"text-align: right;\">\n",
       "      <th></th>\n",
       "      <th>first_order_month</th>\n",
       "      <th>n_buyers</th>\n",
       "      <th>order_month</th>\n",
       "      <th>revenue</th>\n",
       "      <th>cohort_lifetime</th>\n",
       "    </tr>\n",
       "  </thead>\n",
       "  <tbody>\n",
       "    <tr>\n",
       "      <th>0</th>\n",
       "      <td>2016-06-01</td>\n",
       "      <td>3509</td>\n",
       "      <td>2016-06-01</td>\n",
       "      <td>15864.99</td>\n",
       "      <td>0</td>\n",
       "    </tr>\n",
       "    <tr>\n",
       "      <th>1</th>\n",
       "      <td>2016-06-01</td>\n",
       "      <td>3509</td>\n",
       "      <td>2016-07-01</td>\n",
       "      <td>1710.54</td>\n",
       "      <td>1</td>\n",
       "    </tr>\n",
       "    <tr>\n",
       "      <th>2</th>\n",
       "      <td>2016-06-01</td>\n",
       "      <td>3509</td>\n",
       "      <td>2016-08-01</td>\n",
       "      <td>1348.97</td>\n",
       "      <td>2</td>\n",
       "    </tr>\n",
       "    <tr>\n",
       "      <th>3</th>\n",
       "      <td>2016-06-01</td>\n",
       "      <td>3509</td>\n",
       "      <td>2016-09-01</td>\n",
       "      <td>3782.30</td>\n",
       "      <td>3</td>\n",
       "    </tr>\n",
       "    <tr>\n",
       "      <th>4</th>\n",
       "      <td>2016-06-01</td>\n",
       "      <td>3509</td>\n",
       "      <td>2016-10-01</td>\n",
       "      <td>5225.50</td>\n",
       "      <td>4</td>\n",
       "    </tr>\n",
       "  </tbody>\n",
       "</table>\n",
       "</div>"
      ],
      "text/plain": [
       "  first_order_month  n_buyers order_month   revenue  cohort_lifetime\n",
       "0        2016-06-01      3509  2016-06-01  15864.99                0\n",
       "1        2016-06-01      3509  2016-07-01   1710.54                1\n",
       "2        2016-06-01      3509  2016-08-01   1348.97                2\n",
       "3        2016-06-01      3509  2016-09-01   3782.30                3\n",
       "4        2016-06-01      3509  2016-10-01   5225.50                4"
      ]
     },
     "execution_count": 10,
     "metadata": {},
     "output_type": "execute_result"
    }
   ],
   "source": [
    "p['order_month'] = p['buy_ts'].astype('datetime64[M]')\n",
    "\n",
    "#выделим для каждого пользователя дату его первого заказа:\n",
    "first_orders = p.groupby('uid').agg({'order_month': 'min'}).reset_index()\n",
    "first_orders.columns = ['uid', 'first_order_month']\n",
    "\n",
    "#посчитаем сколько пользователей сделали первый заказ в каждом месяце:\n",
    "n_buyers = first_orders.groupby('first_order_month').agg({'uid': 'nunique'}).reset_index()\n",
    "n_buyers.columns = ['first_order_month', 'n_buyers']\n",
    "\n",
    "#создадим когорты, для этого добавим в таблицу месяц первого заказа и сгруппируем ее помесячно:\n",
    "p_new = pd.merge(p,first_orders, on='uid')\n",
    "ltv_cohorts = p_new.groupby(['first_order_month','order_month']).agg({'revenue': 'sum'}).reset_index()\n",
    "#cоединим с количеством пользователей и выделим срок жизни когорты:\n",
    "ltv_report = pd.merge(n_buyers, ltv_cohorts, on='first_order_month')\n",
    "ltv_report['cohort_lifetime'] = (ltv_report['order_month'] - ltv_report['first_order_month']) / np.timedelta64(1, 'M')\n",
    "ltv_report['cohort_lifetime'] = ltv_report['cohort_lifetime'].round().astype('int')\n",
    "ltv_report.head()"
   ]
  },
  {
   "cell_type": "markdown",
   "metadata": {},
   "source": [
    "Наконец, найдём LTV. Разделим прибыль когорт за каждый месяц на общее число пользователей в каждой когорте. Составим сводную таблицу:"
   ]
  },
  {
   "cell_type": "code",
   "execution_count": 11,
   "metadata": {},
   "outputs": [
    {
     "data": {
      "text/html": [
       "<div>\n",
       "<style scoped>\n",
       "    .dataframe tbody tr th:only-of-type {\n",
       "        vertical-align: middle;\n",
       "    }\n",
       "\n",
       "    .dataframe tbody tr th {\n",
       "        vertical-align: top;\n",
       "    }\n",
       "\n",
       "    .dataframe thead th {\n",
       "        text-align: right;\n",
       "    }\n",
       "</style>\n",
       "<table border=\"1\" class=\"dataframe\">\n",
       "  <thead>\n",
       "    <tr style=\"text-align: right;\">\n",
       "      <th>cohort_lifetime</th>\n",
       "      <th>0</th>\n",
       "      <th>1</th>\n",
       "      <th>2</th>\n",
       "      <th>3</th>\n",
       "      <th>4</th>\n",
       "      <th>5</th>\n",
       "      <th>6</th>\n",
       "      <th>7</th>\n",
       "      <th>8</th>\n",
       "      <th>9</th>\n",
       "      <th>10</th>\n",
       "      <th>11</th>\n",
       "    </tr>\n",
       "    <tr>\n",
       "      <th>first_order_month</th>\n",
       "      <th></th>\n",
       "      <th></th>\n",
       "      <th></th>\n",
       "      <th></th>\n",
       "      <th></th>\n",
       "      <th></th>\n",
       "      <th></th>\n",
       "      <th></th>\n",
       "      <th></th>\n",
       "      <th></th>\n",
       "      <th></th>\n",
       "      <th></th>\n",
       "    </tr>\n",
       "  </thead>\n",
       "  <tbody>\n",
       "    <tr>\n",
       "      <th>2016-06-01</th>\n",
       "      <td>4.52</td>\n",
       "      <td>5.01</td>\n",
       "      <td>5.39</td>\n",
       "      <td>6.47</td>\n",
       "      <td>7.96</td>\n",
       "      <td>9.18</td>\n",
       "      <td>10.23</td>\n",
       "      <td>11.15</td>\n",
       "      <td>12</td>\n",
       "      <td>12.89</td>\n",
       "      <td>13.7</td>\n",
       "      <td>14.08</td>\n",
       "    </tr>\n",
       "    <tr>\n",
       "      <th>2016-07-01</th>\n",
       "      <td>5.78</td>\n",
       "      <td>6.04</td>\n",
       "      <td>6.58</td>\n",
       "      <td>6.91</td>\n",
       "      <td>7.06</td>\n",
       "      <td>7.18</td>\n",
       "      <td>7.28</td>\n",
       "      <td>7.42</td>\n",
       "      <td>7.58</td>\n",
       "      <td>7.71</td>\n",
       "      <td>7.83</td>\n",
       "      <td></td>\n",
       "    </tr>\n",
       "    <tr>\n",
       "      <th>2016-08-01</th>\n",
       "      <td>5.28</td>\n",
       "      <td>6.28</td>\n",
       "      <td>6.72</td>\n",
       "      <td>7.06</td>\n",
       "      <td>7.5</td>\n",
       "      <td>7.85</td>\n",
       "      <td>8.11</td>\n",
       "      <td>8.42</td>\n",
       "      <td>8.71</td>\n",
       "      <td>8.85</td>\n",
       "      <td></td>\n",
       "      <td></td>\n",
       "    </tr>\n",
       "    <tr>\n",
       "      <th>2016-09-01</th>\n",
       "      <td>5.29</td>\n",
       "      <td>6.23</td>\n",
       "      <td>6.68</td>\n",
       "      <td>9.31</td>\n",
       "      <td>9.59</td>\n",
       "      <td>10.03</td>\n",
       "      <td>10.6</td>\n",
       "      <td>10.77</td>\n",
       "      <td>10.91</td>\n",
       "      <td></td>\n",
       "      <td></td>\n",
       "      <td></td>\n",
       "    </tr>\n",
       "    <tr>\n",
       "      <th>2016-10-01</th>\n",
       "      <td>4.72</td>\n",
       "      <td>5.18</td>\n",
       "      <td>5.34</td>\n",
       "      <td>5.47</td>\n",
       "      <td>5.58</td>\n",
       "      <td>5.69</td>\n",
       "      <td>5.78</td>\n",
       "      <td>5.88</td>\n",
       "      <td></td>\n",
       "      <td></td>\n",
       "      <td></td>\n",
       "      <td></td>\n",
       "    </tr>\n",
       "    <tr>\n",
       "      <th>2016-11-01</th>\n",
       "      <td>5.19</td>\n",
       "      <td>5.51</td>\n",
       "      <td>5.7</td>\n",
       "      <td>5.97</td>\n",
       "      <td>6.1</td>\n",
       "      <td>6.16</td>\n",
       "      <td>6.25</td>\n",
       "      <td></td>\n",
       "      <td></td>\n",
       "      <td></td>\n",
       "      <td></td>\n",
       "      <td></td>\n",
       "    </tr>\n",
       "    <tr>\n",
       "      <th>2016-12-01</th>\n",
       "      <td>4.51</td>\n",
       "      <td>4.72</td>\n",
       "      <td>5.37</td>\n",
       "      <td>6.1</td>\n",
       "      <td>6.31</td>\n",
       "      <td>6.54</td>\n",
       "      <td></td>\n",
       "      <td></td>\n",
       "      <td></td>\n",
       "      <td></td>\n",
       "      <td></td>\n",
       "      <td></td>\n",
       "    </tr>\n",
       "    <tr>\n",
       "      <th>2017-01-01</th>\n",
       "      <td>4.05</td>\n",
       "      <td>4.31</td>\n",
       "      <td>4.56</td>\n",
       "      <td>4.68</td>\n",
       "      <td>4.73</td>\n",
       "      <td></td>\n",
       "      <td></td>\n",
       "      <td></td>\n",
       "      <td></td>\n",
       "      <td></td>\n",
       "      <td></td>\n",
       "      <td></td>\n",
       "    </tr>\n",
       "    <tr>\n",
       "      <th>2017-02-01</th>\n",
       "      <td>4.10</td>\n",
       "      <td>4.31</td>\n",
       "      <td>4.38</td>\n",
       "      <td>4.45</td>\n",
       "      <td></td>\n",
       "      <td></td>\n",
       "      <td></td>\n",
       "      <td></td>\n",
       "      <td></td>\n",
       "      <td></td>\n",
       "      <td></td>\n",
       "      <td></td>\n",
       "    </tr>\n",
       "    <tr>\n",
       "      <th>2017-03-01</th>\n",
       "      <td>4.54</td>\n",
       "      <td>4.79</td>\n",
       "      <td>5.21</td>\n",
       "      <td></td>\n",
       "      <td></td>\n",
       "      <td></td>\n",
       "      <td></td>\n",
       "      <td></td>\n",
       "      <td></td>\n",
       "      <td></td>\n",
       "      <td></td>\n",
       "      <td></td>\n",
       "    </tr>\n",
       "    <tr>\n",
       "      <th>2017-04-01</th>\n",
       "      <td>4.61</td>\n",
       "      <td>5.02</td>\n",
       "      <td></td>\n",
       "      <td></td>\n",
       "      <td></td>\n",
       "      <td></td>\n",
       "      <td></td>\n",
       "      <td></td>\n",
       "      <td></td>\n",
       "      <td></td>\n",
       "      <td></td>\n",
       "      <td></td>\n",
       "    </tr>\n",
       "    <tr>\n",
       "      <th>2017-05-01</th>\n",
       "      <td>4.58</td>\n",
       "      <td></td>\n",
       "      <td></td>\n",
       "      <td></td>\n",
       "      <td></td>\n",
       "      <td></td>\n",
       "      <td></td>\n",
       "      <td></td>\n",
       "      <td></td>\n",
       "      <td></td>\n",
       "      <td></td>\n",
       "      <td></td>\n",
       "    </tr>\n",
       "    <tr>\n",
       "      <th>2017-06-01</th>\n",
       "      <td>10.32</td>\n",
       "      <td></td>\n",
       "      <td></td>\n",
       "      <td></td>\n",
       "      <td></td>\n",
       "      <td></td>\n",
       "      <td></td>\n",
       "      <td></td>\n",
       "      <td></td>\n",
       "      <td></td>\n",
       "      <td></td>\n",
       "      <td></td>\n",
       "    </tr>\n",
       "  </tbody>\n",
       "</table>\n",
       "</div>"
      ],
      "text/plain": [
       "cohort_lifetime       0     1     2     3     4      5      6      7      8   \\\n",
       "first_order_month                                                              \n",
       "2016-06-01          4.52  5.01  5.39  6.47  7.96   9.18  10.23  11.15     12   \n",
       "2016-07-01          5.78  6.04  6.58  6.91  7.06   7.18   7.28   7.42   7.58   \n",
       "2016-08-01          5.28  6.28  6.72  7.06   7.5   7.85   8.11   8.42   8.71   \n",
       "2016-09-01          5.29  6.23  6.68  9.31  9.59  10.03   10.6  10.77  10.91   \n",
       "2016-10-01          4.72  5.18  5.34  5.47  5.58   5.69   5.78   5.88          \n",
       "2016-11-01          5.19  5.51   5.7  5.97   6.1   6.16   6.25                 \n",
       "2016-12-01          4.51  4.72  5.37   6.1  6.31   6.54                        \n",
       "2017-01-01          4.05  4.31  4.56  4.68  4.73                               \n",
       "2017-02-01          4.10  4.31  4.38  4.45                                     \n",
       "2017-03-01          4.54  4.79  5.21                                           \n",
       "2017-04-01          4.61  5.02                                                 \n",
       "2017-05-01          4.58                                                       \n",
       "2017-06-01         10.32                                                       \n",
       "\n",
       "cohort_lifetime       9     10     11  \n",
       "first_order_month                      \n",
       "2016-06-01         12.89  13.7  14.08  \n",
       "2016-07-01          7.71  7.83         \n",
       "2016-08-01          8.85               \n",
       "2016-09-01                             \n",
       "2016-10-01                             \n",
       "2016-11-01                             \n",
       "2016-12-01                             \n",
       "2017-01-01                             \n",
       "2017-02-01                             \n",
       "2017-03-01                             \n",
       "2017-04-01                             \n",
       "2017-05-01                             \n",
       "2017-06-01                             "
      ]
     },
     "execution_count": 11,
     "metadata": {},
     "output_type": "execute_result"
    }
   ],
   "source": [
    "ltv_report['ltv'] = ltv_report['revenue'] / ltv_report['n_buyers']\n",
    "ltv_report['first_order_month'] = ltv_report['first_order_month'].dt.strftime('%Y-%m-%d')\n",
    "\n",
    "ltv_report_output = ltv_report.pivot_table(index='first_order_month', columns='cohort_lifetime', \n",
    "                            values='ltv', aggfunc='mean')\n",
    "ltv_report_output.cumsum(axis=1).round(2).fillna('')"
   ]
  },
  {
   "cell_type": "markdown",
   "metadata": {},
   "source": [
    "Добавим ограничение для когорт, младше 6 месяцев, то есть всех, начиная с января 2018г и ограничим жизненный цикл периодом в полгода."
   ]
  },
  {
   "cell_type": "code",
   "execution_count": 12,
   "metadata": {},
   "outputs": [
    {
     "data": {
      "text/html": [
       "<div>\n",
       "<style scoped>\n",
       "    .dataframe tbody tr th:only-of-type {\n",
       "        vertical-align: middle;\n",
       "    }\n",
       "\n",
       "    .dataframe tbody tr th {\n",
       "        vertical-align: top;\n",
       "    }\n",
       "\n",
       "    .dataframe thead th {\n",
       "        text-align: right;\n",
       "    }\n",
       "</style>\n",
       "<table border=\"1\" class=\"dataframe\">\n",
       "  <thead>\n",
       "    <tr style=\"text-align: right;\">\n",
       "      <th>cohort_lifetime</th>\n",
       "      <th>0</th>\n",
       "      <th>1</th>\n",
       "      <th>2</th>\n",
       "      <th>3</th>\n",
       "      <th>4</th>\n",
       "      <th>5</th>\n",
       "    </tr>\n",
       "    <tr>\n",
       "      <th>first_order_month</th>\n",
       "      <th></th>\n",
       "      <th></th>\n",
       "      <th></th>\n",
       "      <th></th>\n",
       "      <th></th>\n",
       "      <th></th>\n",
       "    </tr>\n",
       "  </thead>\n",
       "  <tbody>\n",
       "    <tr>\n",
       "      <th>2016-06-01</th>\n",
       "      <td>4.52</td>\n",
       "      <td>5.01</td>\n",
       "      <td>5.39</td>\n",
       "      <td>6.47</td>\n",
       "      <td>7.96</td>\n",
       "      <td>9.18</td>\n",
       "    </tr>\n",
       "    <tr>\n",
       "      <th>2016-07-01</th>\n",
       "      <td>5.78</td>\n",
       "      <td>6.04</td>\n",
       "      <td>6.58</td>\n",
       "      <td>6.91</td>\n",
       "      <td>7.06</td>\n",
       "      <td>7.18</td>\n",
       "    </tr>\n",
       "    <tr>\n",
       "      <th>2016-08-01</th>\n",
       "      <td>5.28</td>\n",
       "      <td>6.28</td>\n",
       "      <td>6.72</td>\n",
       "      <td>7.06</td>\n",
       "      <td>7.50</td>\n",
       "      <td>7.85</td>\n",
       "    </tr>\n",
       "    <tr>\n",
       "      <th>2016-09-01</th>\n",
       "      <td>5.29</td>\n",
       "      <td>6.23</td>\n",
       "      <td>6.68</td>\n",
       "      <td>9.31</td>\n",
       "      <td>9.59</td>\n",
       "      <td>10.03</td>\n",
       "    </tr>\n",
       "    <tr>\n",
       "      <th>2016-10-01</th>\n",
       "      <td>4.72</td>\n",
       "      <td>5.18</td>\n",
       "      <td>5.34</td>\n",
       "      <td>5.47</td>\n",
       "      <td>5.58</td>\n",
       "      <td>5.69</td>\n",
       "    </tr>\n",
       "    <tr>\n",
       "      <th>2016-11-01</th>\n",
       "      <td>5.19</td>\n",
       "      <td>5.51</td>\n",
       "      <td>5.70</td>\n",
       "      <td>5.97</td>\n",
       "      <td>6.10</td>\n",
       "      <td>6.16</td>\n",
       "    </tr>\n",
       "    <tr>\n",
       "      <th>2016-12-01</th>\n",
       "      <td>4.51</td>\n",
       "      <td>4.72</td>\n",
       "      <td>5.37</td>\n",
       "      <td>6.10</td>\n",
       "      <td>6.31</td>\n",
       "      <td>6.54</td>\n",
       "    </tr>\n",
       "  </tbody>\n",
       "</table>\n",
       "</div>"
      ],
      "text/plain": [
       "cohort_lifetime       0     1     2     3     4      5\n",
       "first_order_month                                     \n",
       "2016-06-01         4.52  5.01  5.39  6.47  7.96   9.18\n",
       "2016-07-01         5.78  6.04  6.58  6.91  7.06   7.18\n",
       "2016-08-01         5.28  6.28  6.72  7.06  7.50   7.85\n",
       "2016-09-01         5.29  6.23  6.68  9.31  9.59  10.03\n",
       "2016-10-01         4.72  5.18  5.34  5.47  5.58   5.69\n",
       "2016-11-01         5.19  5.51  5.70  5.97  6.10   6.16\n",
       "2016-12-01         4.51  4.72  5.37  6.10  6.31   6.54"
      ]
     },
     "execution_count": 12,
     "metadata": {},
     "output_type": "execute_result"
    }
   ],
   "source": [
    "ltv_6_report = ltv_report.loc[(ltv_report['first_order_month'] < '2017-01-01') & (ltv_report['cohort_lifetime'] < 6)]\n",
    "\n",
    "ltv_6_report_output = ltv_6_report.pivot_table(index='first_order_month', columns='cohort_lifetime', \n",
    "                            values='ltv', aggfunc='mean')\n",
    "ltv_6_report_output.cumsum(axis=1).round(2).fillna('')"
   ]
  },
  {
   "cell_type": "code",
   "execution_count": 13,
   "metadata": {},
   "outputs": [
    {
     "data": {
      "image/png": "[encoded data removed]",
      "text/plain": [
       "<Figure size 504x360 with 2 Axes>"
      ]
     },
     "metadata": {
      "needs_background": "light"
     },
     "output_type": "display_data"
    }
   ],
   "source": [
    "fig, ax = plt.subplots(figsize=(7, 5))\n",
    "ax = sns.heatmap(ltv_6_report_output.cumsum(axis=1).round(2), annot=True, linewidths=1, linecolor='gray')\n",
    "plt.title('Метрика LTV по ежемесячным когортам 2016 года за 6 месяцев')\n",
    "plt.xlabel('Cohort lifetime')\n",
    "plt.ylabel('Когорта');"
   ]
  },
  {
   "cell_type": "markdown",
   "metadata": {},
   "source": [
    "Начальные значения метрики - 4,5 - 5,8 ед. Минимальное значение LTV в конце обозначенного жизненного цикла - 5,7, максимальное - 11. Самые высокие занчения 10 и 9,2 ед. у сентябрьской и июньской когорты 2016. Хорошие показатели в августе и июле (7,8 и 7,2). Поздние когорты не вырастают за 6,5 ед.  Среднее значение LTV по семи когортам 7,5 ед. "
   ]
  },
  {
   "cell_type": "markdown",
   "metadata": {},
   "source": [
    "Объединим таблицы, чтобы посчитать значение LTV:"
   ]
  },
  {
   "cell_type": "code",
   "execution_count": 14,
   "metadata": {},
   "outputs": [
    {
     "data": {
      "text/html": [
       "<div>\n",
       "<style scoped>\n",
       "    .dataframe tbody tr th:only-of-type {\n",
       "        vertical-align: middle;\n",
       "    }\n",
       "\n",
       "    .dataframe tbody tr th {\n",
       "        vertical-align: top;\n",
       "    }\n",
       "\n",
       "    .dataframe thead th {\n",
       "        text-align: right;\n",
       "    }\n",
       "</style>\n",
       "<table border=\"1\" class=\"dataframe\">\n",
       "  <thead>\n",
       "    <tr style=\"text-align: right;\">\n",
       "      <th></th>\n",
       "      <th>uid</th>\n",
       "      <th>first_visit_month</th>\n",
       "      <th>device</th>\n",
       "      <th>source_id</th>\n",
       "    </tr>\n",
       "  </thead>\n",
       "  <tbody>\n",
       "    <tr>\n",
       "      <th>0</th>\n",
       "      <td>4245</td>\n",
       "      <td>2016-11-01</td>\n",
       "      <td>desktop</td>\n",
       "      <td>5</td>\n",
       "    </tr>\n",
       "    <tr>\n",
       "      <th>1</th>\n",
       "      <td>5097</td>\n",
       "      <td>2017-02-01</td>\n",
       "      <td>desktop</td>\n",
       "      <td>3</td>\n",
       "    </tr>\n",
       "    <tr>\n",
       "      <th>2</th>\n",
       "      <td>8896</td>\n",
       "      <td>2017-01-01</td>\n",
       "      <td>desktop</td>\n",
       "      <td>3</td>\n",
       "    </tr>\n",
       "    <tr>\n",
       "      <th>3</th>\n",
       "      <td>21017</td>\n",
       "      <td>2016-06-01</td>\n",
       "      <td>desktop</td>\n",
       "      <td>5</td>\n",
       "    </tr>\n",
       "    <tr>\n",
       "      <th>4</th>\n",
       "      <td>30696</td>\n",
       "      <td>2016-11-01</td>\n",
       "      <td>desktop</td>\n",
       "      <td>3</td>\n",
       "    </tr>\n",
       "  </tbody>\n",
       "</table>\n",
       "</div>"
      ],
      "text/plain": [
       "     uid first_visit_month   device  source_id\n",
       "0   4245        2016-11-01  desktop          5\n",
       "1   5097        2017-02-01  desktop          3\n",
       "2   8896        2017-01-01  desktop          3\n",
       "3  21017        2016-06-01  desktop          5\n",
       "4  30696        2016-11-01  desktop          3"
      ]
     },
     "execution_count": 14,
     "metadata": {},
     "output_type": "execute_result"
    }
   ],
   "source": [
    "v['visit_month'] = v['start_dt'].astype('datetime64[M]')\n",
    "first_device = v.groupby('uid').agg({'visit_month': 'min', 'device': 'first', 'source_id':'first'}).reset_index()\n",
    "first_device.columns = ['uid','first_visit_month', 'device', 'source_id']\n",
    "first_device.head()"
   ]
  },
  {
   "cell_type": "code",
   "execution_count": 15,
   "metadata": {},
   "outputs": [
    {
     "data": {
      "text/html": [
       "<div>\n",
       "<style scoped>\n",
       "    .dataframe tbody tr th:only-of-type {\n",
       "        vertical-align: middle;\n",
       "    }\n",
       "\n",
       "    .dataframe tbody tr th {\n",
       "        vertical-align: top;\n",
       "    }\n",
       "\n",
       "    .dataframe thead th {\n",
       "        text-align: right;\n",
       "    }\n",
       "</style>\n",
       "<table border=\"1\" class=\"dataframe\">\n",
       "  <thead>\n",
       "    <tr style=\"text-align: right;\">\n",
       "      <th></th>\n",
       "      <th>buy_ts</th>\n",
       "      <th>uid</th>\n",
       "      <th>revenue</th>\n",
       "      <th>order_month</th>\n",
       "      <th>first_visit_month</th>\n",
       "      <th>device</th>\n",
       "      <th>source_id</th>\n",
       "    </tr>\n",
       "  </thead>\n",
       "  <tbody>\n",
       "    <tr>\n",
       "      <th>0</th>\n",
       "      <td>2016-07-23 19:13:54</td>\n",
       "      <td>3492372810</td>\n",
       "      <td>1.47</td>\n",
       "      <td>2016-07-01</td>\n",
       "      <td>2016-07-01</td>\n",
       "      <td>touch</td>\n",
       "      <td>4</td>\n",
       "    </tr>\n",
       "    <tr>\n",
       "      <th>1</th>\n",
       "      <td>2016-11-06 02:48:27</td>\n",
       "      <td>1564753091</td>\n",
       "      <td>1.11</td>\n",
       "      <td>2016-11-01</td>\n",
       "      <td>2016-11-01</td>\n",
       "      <td>desktop</td>\n",
       "      <td>5</td>\n",
       "    </tr>\n",
       "    <tr>\n",
       "      <th>2</th>\n",
       "      <td>2017-01-31 20:32:42</td>\n",
       "      <td>1385616391</td>\n",
       "      <td>16.80</td>\n",
       "      <td>2017-01-01</td>\n",
       "      <td>2017-01-01</td>\n",
       "      <td>desktop</td>\n",
       "      <td>3</td>\n",
       "    </tr>\n",
       "    <tr>\n",
       "      <th>3</th>\n",
       "      <td>2017-01-11 10:52:11</td>\n",
       "      <td>2636761148</td>\n",
       "      <td>11.00</td>\n",
       "      <td>2017-01-01</td>\n",
       "      <td>2016-06-01</td>\n",
       "      <td>desktop</td>\n",
       "      <td>1</td>\n",
       "    </tr>\n",
       "    <tr>\n",
       "      <th>4</th>\n",
       "      <td>2016-11-25 18:57:09</td>\n",
       "      <td>2945629974</td>\n",
       "      <td>4.89</td>\n",
       "      <td>2016-11-01</td>\n",
       "      <td>2016-11-01</td>\n",
       "      <td>desktop</td>\n",
       "      <td>4</td>\n",
       "    </tr>\n",
       "  </tbody>\n",
       "</table>\n",
       "</div>"
      ],
      "text/plain": [
       "               buy_ts         uid  revenue order_month first_visit_month  \\\n",
       "0 2016-07-23 19:13:54  3492372810     1.47  2016-07-01        2016-07-01   \n",
       "1 2016-11-06 02:48:27  1564753091     1.11  2016-11-01        2016-11-01   \n",
       "2 2017-01-31 20:32:42  1385616391    16.80  2017-01-01        2017-01-01   \n",
       "3 2017-01-11 10:52:11  2636761148    11.00  2017-01-01        2016-06-01   \n",
       "4 2016-11-25 18:57:09  2945629974     4.89  2016-11-01        2016-11-01   \n",
       "\n",
       "    device  source_id  \n",
       "0    touch          4  \n",
       "1  desktop          5  \n",
       "2  desktop          3  \n",
       "3  desktop          1  \n",
       "4  desktop          4  "
      ]
     },
     "execution_count": 15,
     "metadata": {},
     "output_type": "execute_result"
    }
   ],
   "source": [
    "df = pd.merge(p, first_device, how = 'left', on = 'uid')\n",
    "df.head()"
   ]
  },
  {
   "cell_type": "code",
   "execution_count": 16,
   "metadata": {},
   "outputs": [
    {
     "data": {
      "text/html": [
       "<style  type=\"text/css\" >\n",
       "#T_c36bddae_8fb9_11eb_83ce_902b343df05arow0_col1{\n",
       "            background-color:  #65aad4;\n",
       "            color:  #000000;\n",
       "        }#T_c36bddae_8fb9_11eb_83ce_902b343df05arow1_col1{\n",
       "            background-color:  #c9ddf0;\n",
       "            color:  #000000;\n",
       "        }#T_c36bddae_8fb9_11eb_83ce_902b343df05arow2_col1{\n",
       "            background-color:  #f5fafe;\n",
       "            color:  #000000;\n",
       "        }#T_c36bddae_8fb9_11eb_83ce_902b343df05arow3_col1{\n",
       "            background-color:  #8cc0dd;\n",
       "            color:  #000000;\n",
       "        }#T_c36bddae_8fb9_11eb_83ce_902b343df05arow4_col1{\n",
       "            background-color:  #08306b;\n",
       "            color:  #f1f1f1;\n",
       "        }#T_c36bddae_8fb9_11eb_83ce_902b343df05arow5_col1{\n",
       "            background-color:  #1c6ab0;\n",
       "            color:  #f1f1f1;\n",
       "        }#T_c36bddae_8fb9_11eb_83ce_902b343df05arow6_col1{\n",
       "            background-color:  #2575b7;\n",
       "            color:  #000000;\n",
       "        }#T_c36bddae_8fb9_11eb_83ce_902b343df05arow7_col1{\n",
       "            background-color:  #9ac8e0;\n",
       "            color:  #000000;\n",
       "        }#T_c36bddae_8fb9_11eb_83ce_902b343df05arow8_col1{\n",
       "            background-color:  #91c3de;\n",
       "            color:  #000000;\n",
       "        }#T_c36bddae_8fb9_11eb_83ce_902b343df05arow9_col1{\n",
       "            background-color:  #b5d4e9;\n",
       "            color:  #000000;\n",
       "        }#T_c36bddae_8fb9_11eb_83ce_902b343df05arow10_col1{\n",
       "            background-color:  #f7fbff;\n",
       "            color:  #000000;\n",
       "        }#T_c36bddae_8fb9_11eb_83ce_902b343df05arow11_col1{\n",
       "            background-color:  #d9e8f5;\n",
       "            color:  #000000;\n",
       "        }</style><table id=\"T_c36bddae_8fb9_11eb_83ce_902b343df05a\" ><caption>Количество новых пользователей `desktop` за месяц</caption><thead>    <tr>        <th class=\"blank level0\" ></th>        <th class=\"col_heading level0 col0\" >first_visit_month</th>        <th class=\"col_heading level0 col1\" >desktop_users</th>    </tr></thead><tbody>\n",
       "                <tr>\n",
       "                        <th id=\"T_c36bddae_8fb9_11eb_83ce_902b343df05alevel0_row0\" class=\"row_heading level0 row0\" >0</th>\n",
       "                        <td id=\"T_c36bddae_8fb9_11eb_83ce_902b343df05arow0_col0\" class=\"data row0 col0\" >2016-06-01 00:00:00</td>\n",
       "                        <td id=\"T_c36bddae_8fb9_11eb_83ce_902b343df05arow0_col1\" class=\"data row0 col1\" >4139</td>\n",
       "            </tr>\n",
       "            <tr>\n",
       "                        <th id=\"T_c36bddae_8fb9_11eb_83ce_902b343df05alevel0_row1\" class=\"row_heading level0 row1\" >1</th>\n",
       "                        <td id=\"T_c36bddae_8fb9_11eb_83ce_902b343df05arow1_col0\" class=\"data row1 col0\" >2016-07-01 00:00:00</td>\n",
       "                        <td id=\"T_c36bddae_8fb9_11eb_83ce_902b343df05arow1_col1\" class=\"data row1 col1\" >3107</td>\n",
       "            </tr>\n",
       "            <tr>\n",
       "                        <th id=\"T_c36bddae_8fb9_11eb_83ce_902b343df05alevel0_row2\" class=\"row_heading level0 row2\" >2</th>\n",
       "                        <td id=\"T_c36bddae_8fb9_11eb_83ce_902b343df05arow2_col0\" class=\"data row2 col0\" >2016-08-01 00:00:00</td>\n",
       "                        <td id=\"T_c36bddae_8fb9_11eb_83ce_902b343df05arow2_col1\" class=\"data row2 col1\" >2273</td>\n",
       "            </tr>\n",
       "            <tr>\n",
       "                        <th id=\"T_c36bddae_8fb9_11eb_83ce_902b343df05alevel0_row3\" class=\"row_heading level0 row3\" >3</th>\n",
       "                        <td id=\"T_c36bddae_8fb9_11eb_83ce_902b343df05arow3_col0\" class=\"data row3 col0\" >2016-09-01 00:00:00</td>\n",
       "                        <td id=\"T_c36bddae_8fb9_11eb_83ce_902b343df05arow3_col1\" class=\"data row3 col1\" >3787</td>\n",
       "            </tr>\n",
       "            <tr>\n",
       "                        <th id=\"T_c36bddae_8fb9_11eb_83ce_902b343df05alevel0_row4\" class=\"row_heading level0 row4\" >4</th>\n",
       "                        <td id=\"T_c36bddae_8fb9_11eb_83ce_902b343df05arow4_col0\" class=\"data row4 col0\" >2016-10-01 00:00:00</td>\n",
       "                        <td id=\"T_c36bddae_8fb9_11eb_83ce_902b343df05arow4_col1\" class=\"data row4 col1\" >5902</td>\n",
       "            </tr>\n",
       "            <tr>\n",
       "                        <th id=\"T_c36bddae_8fb9_11eb_83ce_902b343df05alevel0_row5\" class=\"row_heading level0 row5\" >5</th>\n",
       "                        <td id=\"T_c36bddae_8fb9_11eb_83ce_902b343df05arow5_col0\" class=\"data row5 col0\" >2016-11-01 00:00:00</td>\n",
       "                        <td id=\"T_c36bddae_8fb9_11eb_83ce_902b343df05arow5_col1\" class=\"data row5 col1\" >5083</td>\n",
       "            </tr>\n",
       "            <tr>\n",
       "                        <th id=\"T_c36bddae_8fb9_11eb_83ce_902b343df05alevel0_row6\" class=\"row_heading level0 row6\" >6</th>\n",
       "                        <td id=\"T_c36bddae_8fb9_11eb_83ce_902b343df05arow6_col0\" class=\"data row6 col0\" >2016-12-01 00:00:00</td>\n",
       "                        <td id=\"T_c36bddae_8fb9_11eb_83ce_902b343df05arow6_col1\" class=\"data row6 col1\" >4918</td>\n",
       "            </tr>\n",
       "            <tr>\n",
       "                        <th id=\"T_c36bddae_8fb9_11eb_83ce_902b343df05alevel0_row7\" class=\"row_heading level0 row7\" >7</th>\n",
       "                        <td id=\"T_c36bddae_8fb9_11eb_83ce_902b343df05arow7_col0\" class=\"data row7 col0\" >2017-01-01 00:00:00</td>\n",
       "                        <td id=\"T_c36bddae_8fb9_11eb_83ce_902b343df05arow7_col1\" class=\"data row7 col1\" >3655</td>\n",
       "            </tr>\n",
       "            <tr>\n",
       "                        <th id=\"T_c36bddae_8fb9_11eb_83ce_902b343df05alevel0_row8\" class=\"row_heading level0 row8\" >8</th>\n",
       "                        <td id=\"T_c36bddae_8fb9_11eb_83ce_902b343df05arow8_col0\" class=\"data row8 col0\" >2017-02-01 00:00:00</td>\n",
       "                        <td id=\"T_c36bddae_8fb9_11eb_83ce_902b343df05arow8_col1\" class=\"data row8 col1\" >3740</td>\n",
       "            </tr>\n",
       "            <tr>\n",
       "                        <th id=\"T_c36bddae_8fb9_11eb_83ce_902b343df05alevel0_row9\" class=\"row_heading level0 row9\" >9</th>\n",
       "                        <td id=\"T_c36bddae_8fb9_11eb_83ce_902b343df05arow9_col0\" class=\"data row9 col0\" >2017-03-01 00:00:00</td>\n",
       "                        <td id=\"T_c36bddae_8fb9_11eb_83ce_902b343df05arow9_col1\" class=\"data row9 col1\" >3352</td>\n",
       "            </tr>\n",
       "            <tr>\n",
       "                        <th id=\"T_c36bddae_8fb9_11eb_83ce_902b343df05alevel0_row10\" class=\"row_heading level0 row10\" >10</th>\n",
       "                        <td id=\"T_c36bddae_8fb9_11eb_83ce_902b343df05arow10_col0\" class=\"data row10 col0\" >2017-04-01 00:00:00</td>\n",
       "                        <td id=\"T_c36bddae_8fb9_11eb_83ce_902b343df05arow10_col1\" class=\"data row10 col1\" >2244</td>\n",
       "            </tr>\n",
       "            <tr>\n",
       "                        <th id=\"T_c36bddae_8fb9_11eb_83ce_902b343df05alevel0_row11\" class=\"row_heading level0 row11\" >11</th>\n",
       "                        <td id=\"T_c36bddae_8fb9_11eb_83ce_902b343df05arow11_col0\" class=\"data row11 col0\" >2017-05-01 00:00:00</td>\n",
       "                        <td id=\"T_c36bddae_8fb9_11eb_83ce_902b343df05arow11_col1\" class=\"data row11 col1\" >2790</td>\n",
       "            </tr>\n",
       "    </tbody></table>"
      ],
      "text/plain": [
       "<pandas.io.formats.style.Styler at 0x146f2df0>"
      ]
     },
     "execution_count": 16,
     "metadata": {},
     "output_type": "execute_result"
    }
   ],
   "source": [
    "desktop_users = df[df['device'] == 'desktop'\n",
    "                            ].groupby('first_visit_month').agg({'uid': 'nunique'}).reset_index()\n",
    "desktop_users.columns = ['first_visit_month', 'desktop_users']\n",
    "desktop_users\n",
    "\n",
    "(desktop_users\n",
    " .style\n",
    " .set_caption('Количество новых пользователей `desktop` за месяц')\n",
    " .background_gradient(cmap='Blues')\n",
    ")"
   ]
  },
  {
   "cell_type": "code",
   "execution_count": 17,
   "metadata": {},
   "outputs": [
    {
     "data": {
      "text/html": [
       "<div>\n",
       "<style scoped>\n",
       "    .dataframe tbody tr th:only-of-type {\n",
       "        vertical-align: middle;\n",
       "    }\n",
       "\n",
       "    .dataframe tbody tr th {\n",
       "        vertical-align: top;\n",
       "    }\n",
       "\n",
       "    .dataframe thead th {\n",
       "        text-align: right;\n",
       "    }\n",
       "</style>\n",
       "<table border=\"1\" class=\"dataframe\">\n",
       "  <thead>\n",
       "    <tr style=\"text-align: right;\">\n",
       "      <th>cohort_lifetime</th>\n",
       "      <th>0</th>\n",
       "      <th>1</th>\n",
       "      <th>2</th>\n",
       "      <th>3</th>\n",
       "      <th>4</th>\n",
       "      <th>5</th>\n",
       "    </tr>\n",
       "    <tr>\n",
       "      <th>first_visit_month</th>\n",
       "      <th></th>\n",
       "      <th></th>\n",
       "      <th></th>\n",
       "      <th></th>\n",
       "      <th></th>\n",
       "      <th></th>\n",
       "    </tr>\n",
       "  </thead>\n",
       "  <tbody>\n",
       "    <tr>\n",
       "      <th>2016-06-01</th>\n",
       "      <td>3.26</td>\n",
       "      <td>4.11</td>\n",
       "      <td>4.64</td>\n",
       "      <td>6.42</td>\n",
       "      <td>8.21</td>\n",
       "      <td>9.64</td>\n",
       "    </tr>\n",
       "    <tr>\n",
       "      <th>2016-07-01</th>\n",
       "      <td>4.03</td>\n",
       "      <td>4.40</td>\n",
       "      <td>4.91</td>\n",
       "      <td>5.29</td>\n",
       "      <td>5.63</td>\n",
       "      <td>5.95</td>\n",
       "    </tr>\n",
       "    <tr>\n",
       "      <th>2016-08-01</th>\n",
       "      <td>3.64</td>\n",
       "      <td>4.19</td>\n",
       "      <td>4.77</td>\n",
       "      <td>5.23</td>\n",
       "      <td>5.71</td>\n",
       "      <td>6.01</td>\n",
       "    </tr>\n",
       "    <tr>\n",
       "      <th>2016-09-01</th>\n",
       "      <td>3.83</td>\n",
       "      <td>4.66</td>\n",
       "      <td>5.15</td>\n",
       "      <td>7.90</td>\n",
       "      <td>8.19</td>\n",
       "      <td>8.71</td>\n",
       "    </tr>\n",
       "    <tr>\n",
       "      <th>2016-10-01</th>\n",
       "      <td>3.77</td>\n",
       "      <td>4.39</td>\n",
       "      <td>4.64</td>\n",
       "      <td>4.85</td>\n",
       "      <td>5.06</td>\n",
       "      <td>5.24</td>\n",
       "    </tr>\n",
       "    <tr>\n",
       "      <th>2016-11-01</th>\n",
       "      <td>3.92</td>\n",
       "      <td>4.50</td>\n",
       "      <td>4.76</td>\n",
       "      <td>5.11</td>\n",
       "      <td>5.32</td>\n",
       "      <td>5.49</td>\n",
       "    </tr>\n",
       "    <tr>\n",
       "      <th>2016-12-01</th>\n",
       "      <td>4.06</td>\n",
       "      <td>4.44</td>\n",
       "      <td>5.31</td>\n",
       "      <td>6.33</td>\n",
       "      <td>6.64</td>\n",
       "      <td>6.99</td>\n",
       "    </tr>\n",
       "  </tbody>\n",
       "</table>\n",
       "</div>"
      ],
      "text/plain": [
       "cohort_lifetime       0     1     2     3     4     5\n",
       "first_visit_month                                    \n",
       "2016-06-01         3.26  4.11  4.64  6.42  8.21  9.64\n",
       "2016-07-01         4.03  4.40  4.91  5.29  5.63  5.95\n",
       "2016-08-01         3.64  4.19  4.77  5.23  5.71  6.01\n",
       "2016-09-01         3.83  4.66  5.15  7.90  8.19  8.71\n",
       "2016-10-01         3.77  4.39  4.64  4.85  5.06  5.24\n",
       "2016-11-01         3.92  4.50  4.76  5.11  5.32  5.49\n",
       "2016-12-01         4.06  4.44  5.31  6.33  6.64  6.99"
      ]
     },
     "execution_count": 17,
     "metadata": {},
     "output_type": "execute_result"
    }
   ],
   "source": [
    "desktop_cohorts = df.query('device == \"desktop\"')\\\n",
    "                    .groupby(['first_visit_month','order_month'])\\\n",
    "                    .agg({'revenue': 'sum'})\\\n",
    "                    .reset_index()\n",
    "desktop = pd.merge(desktop_cohorts, desktop_users, on='first_visit_month')\n",
    "desktop['cohort_lifetime'] = (desktop['order_month'] - desktop['first_visit_month']) / np.timedelta64(1, 'M')\n",
    "desktop['cohort_lifetime'] = desktop['cohort_lifetime'].round().astype('int')\n",
    "desktop['first_visit_month'] = desktop['first_visit_month'].dt.strftime('%Y-%m-%d')\n",
    "desktop['ltv'] = desktop['revenue'] / desktop['desktop_users']\n",
    "desktop_6_ltv = desktop.loc[(desktop['first_visit_month'] < '2017-01-01') & (desktop['cohort_lifetime'] < 6)]\n",
    "\n",
    "desktop_6_ltv = desktop_6_ltv.pivot_table(index='first_visit_month', columns='cohort_lifetime', \n",
    "                            values='ltv', aggfunc='mean')\n",
    "desktop_6_ltv = desktop_6_ltv.cumsum(axis=1).fillna('').round(2)\n",
    "desktop_6_ltv"
   ]
  },
  {
   "cell_type": "code",
   "execution_count": 18,
   "metadata": {},
   "outputs": [
    {
     "data": {
      "image/png": "[encoded data removed]",
      "text/plain": [
       "<Figure size 504x360 with 2 Axes>"
      ]
     },
     "metadata": {
      "needs_background": "light"
     },
     "output_type": "display_data"
    }
   ],
   "source": [
    "fig, ax = plt.subplots(figsize=(7, 5))\n",
    "ax = sns.heatmap(desktop_6_ltv, annot=True, linewidths=1, linecolor='gray')\n",
    "plt.title('Метрика LTV по ежемесячным когортам устройства desktop 2016 года за 6 месяцев')\n",
    "plt.xlabel('Cohort lifetime')\n",
    "plt.ylabel('Когорта');"
   ]
  },
  {
   "cell_type": "markdown",
   "metadata": {},
   "source": [
    "Начальные значения метрики - 3,3 - 4,1 ед. Минимальное значение LTV `desktop` в конце обозначенного жизненного цикла - 5,2, максимальное - 9,6. Мы видим, что распределение значения LTV похожи на общие трендам метрики. Самые высокие занченияу июньской и сентябрьской когорты (9,6 и 8,7). На третьем месте декабрь - 7 ед. Летние когорты в целом лучше себя показывают, чем осенние. Среднее значение LTV по семи когортам 6,9 ед. "
   ]
  },
  {
   "cell_type": "code",
   "execution_count": 19,
   "metadata": {},
   "outputs": [
    {
     "data": {
      "text/html": [
       "<style  type=\"text/css\" >\n",
       "#T_c3f934ea_8fb9_11eb_86a2_902b343df05arow0_col1{\n",
       "            background-color:  #6dafd7;\n",
       "            color:  #000000;\n",
       "        }#T_c3f934ea_8fb9_11eb_86a2_902b343df05arow1_col1{\n",
       "            background-color:  #aacfe5;\n",
       "            color:  #000000;\n",
       "        }#T_c3f934ea_8fb9_11eb_86a2_902b343df05arow2_col1{\n",
       "            background-color:  #f2f7fd;\n",
       "            color:  #000000;\n",
       "        }#T_c3f934ea_8fb9_11eb_86a2_902b343df05arow3_col1,#T_c3f934ea_8fb9_11eb_86a2_902b343df05arow7_col1{\n",
       "            background-color:  #5fa6d1;\n",
       "            color:  #000000;\n",
       "        }#T_c3f934ea_8fb9_11eb_86a2_902b343df05arow4_col1{\n",
       "            background-color:  #08306b;\n",
       "            color:  #f1f1f1;\n",
       "        }#T_c3f934ea_8fb9_11eb_86a2_902b343df05arow5_col1{\n",
       "            background-color:  #1967ad;\n",
       "            color:  #f1f1f1;\n",
       "        }#T_c3f934ea_8fb9_11eb_86a2_902b343df05arow6_col1{\n",
       "            background-color:  #2575b7;\n",
       "            color:  #000000;\n",
       "        }#T_c3f934ea_8fb9_11eb_86a2_902b343df05arow8_col1{\n",
       "            background-color:  #66abd4;\n",
       "            color:  #000000;\n",
       "        }#T_c3f934ea_8fb9_11eb_86a2_902b343df05arow9_col1{\n",
       "            background-color:  #b0d2e7;\n",
       "            color:  #000000;\n",
       "        }#T_c3f934ea_8fb9_11eb_86a2_902b343df05arow10_col1{\n",
       "            background-color:  #f7fbff;\n",
       "            color:  #000000;\n",
       "        }#T_c3f934ea_8fb9_11eb_86a2_902b343df05arow11_col1{\n",
       "            background-color:  #dce9f6;\n",
       "            color:  #000000;\n",
       "        }</style><table id=\"T_c3f934ea_8fb9_11eb_86a2_902b343df05a\" ><caption>Количество новых пользователей `touch` за месяц</caption><thead>    <tr>        <th class=\"blank level0\" ></th>        <th class=\"col_heading level0 col0\" >first_visit_month</th>        <th class=\"col_heading level0 col1\" >touch_users</th>    </tr></thead><tbody>\n",
       "                <tr>\n",
       "                        <th id=\"T_c3f934ea_8fb9_11eb_86a2_902b343df05alevel0_row0\" class=\"row_heading level0 row0\" >0</th>\n",
       "                        <td id=\"T_c3f934ea_8fb9_11eb_86a2_902b343df05arow0_col0\" class=\"data row0 col0\" >2016-06-01 00:00:00</td>\n",
       "                        <td id=\"T_c3f934ea_8fb9_11eb_86a2_902b343df05arow0_col1\" class=\"data row0 col1\" >934</td>\n",
       "            </tr>\n",
       "            <tr>\n",
       "                        <th id=\"T_c3f934ea_8fb9_11eb_86a2_902b343df05alevel0_row1\" class=\"row_heading level0 row1\" >1</th>\n",
       "                        <td id=\"T_c3f934ea_8fb9_11eb_86a2_902b343df05arow1_col0\" class=\"data row1 col0\" >2016-07-01 00:00:00</td>\n",
       "                        <td id=\"T_c3f934ea_8fb9_11eb_86a2_902b343df05arow1_col1\" class=\"data row1 col1\" >805</td>\n",
       "            </tr>\n",
       "            <tr>\n",
       "                        <th id=\"T_c3f934ea_8fb9_11eb_86a2_902b343df05alevel0_row2\" class=\"row_heading level0 row2\" >2</th>\n",
       "                        <td id=\"T_c3f934ea_8fb9_11eb_86a2_902b343df05arow2_col0\" class=\"data row2 col0\" >2016-08-01 00:00:00</td>\n",
       "                        <td id=\"T_c3f934ea_8fb9_11eb_86a2_902b343df05arow2_col1\" class=\"data row2 col1\" >547</td>\n",
       "            </tr>\n",
       "            <tr>\n",
       "                        <th id=\"T_c3f934ea_8fb9_11eb_86a2_902b343df05alevel0_row3\" class=\"row_heading level0 row3\" >3</th>\n",
       "                        <td id=\"T_c3f934ea_8fb9_11eb_86a2_902b343df05arow3_col0\" class=\"data row3 col0\" >2016-09-01 00:00:00</td>\n",
       "                        <td id=\"T_c3f934ea_8fb9_11eb_86a2_902b343df05arow3_col1\" class=\"data row3 col1\" >970</td>\n",
       "            </tr>\n",
       "            <tr>\n",
       "                        <th id=\"T_c3f934ea_8fb9_11eb_86a2_902b343df05alevel0_row4\" class=\"row_heading level0 row4\" >4</th>\n",
       "                        <td id=\"T_c3f934ea_8fb9_11eb_86a2_902b343df05arow4_col0\" class=\"data row4 col0\" >2016-10-01 00:00:00</td>\n",
       "                        <td id=\"T_c3f934ea_8fb9_11eb_86a2_902b343df05arow4_col1\" class=\"data row4 col1\" >1358</td>\n",
       "            </tr>\n",
       "            <tr>\n",
       "                        <th id=\"T_c3f934ea_8fb9_11eb_86a2_902b343df05alevel0_row5\" class=\"row_heading level0 row5\" >5</th>\n",
       "                        <td id=\"T_c3f934ea_8fb9_11eb_86a2_902b343df05arow5_col0\" class=\"data row5 col0\" >2016-11-01 00:00:00</td>\n",
       "                        <td id=\"T_c3f934ea_8fb9_11eb_86a2_902b343df05arow5_col1\" class=\"data row5 col1\" >1179</td>\n",
       "            </tr>\n",
       "            <tr>\n",
       "                        <th id=\"T_c3f934ea_8fb9_11eb_86a2_902b343df05alevel0_row6\" class=\"row_heading level0 row6\" >6</th>\n",
       "                        <td id=\"T_c3f934ea_8fb9_11eb_86a2_902b343df05arow6_col0\" class=\"data row6 col0\" >2016-12-01 00:00:00</td>\n",
       "                        <td id=\"T_c3f934ea_8fb9_11eb_86a2_902b343df05arow6_col1\" class=\"data row6 col1\" >1136</td>\n",
       "            </tr>\n",
       "            <tr>\n",
       "                        <th id=\"T_c3f934ea_8fb9_11eb_86a2_902b343df05alevel0_row7\" class=\"row_heading level0 row7\" >7</th>\n",
       "                        <td id=\"T_c3f934ea_8fb9_11eb_86a2_902b343df05arow7_col0\" class=\"data row7 col0\" >2017-01-01 00:00:00</td>\n",
       "                        <td id=\"T_c3f934ea_8fb9_11eb_86a2_902b343df05arow7_col1\" class=\"data row7 col1\" >970</td>\n",
       "            </tr>\n",
       "            <tr>\n",
       "                        <th id=\"T_c3f934ea_8fb9_11eb_86a2_902b343df05alevel0_row8\" class=\"row_heading level0 row8\" >8</th>\n",
       "                        <td id=\"T_c3f934ea_8fb9_11eb_86a2_902b343df05arow8_col0\" class=\"data row8 col0\" >2017-02-01 00:00:00</td>\n",
       "                        <td id=\"T_c3f934ea_8fb9_11eb_86a2_902b343df05arow8_col1\" class=\"data row8 col1\" >953</td>\n",
       "            </tr>\n",
       "            <tr>\n",
       "                        <th id=\"T_c3f934ea_8fb9_11eb_86a2_902b343df05alevel0_row9\" class=\"row_heading level0 row9\" >9</th>\n",
       "                        <td id=\"T_c3f934ea_8fb9_11eb_86a2_902b343df05arow9_col0\" class=\"data row9 col0\" >2017-03-01 00:00:00</td>\n",
       "                        <td id=\"T_c3f934ea_8fb9_11eb_86a2_902b343df05arow9_col1\" class=\"data row9 col1\" >790</td>\n",
       "            </tr>\n",
       "            <tr>\n",
       "                        <th id=\"T_c3f934ea_8fb9_11eb_86a2_902b343df05alevel0_row10\" class=\"row_heading level0 row10\" >10</th>\n",
       "                        <td id=\"T_c3f934ea_8fb9_11eb_86a2_902b343df05arow10_col0\" class=\"data row10 col0\" >2017-04-01 00:00:00</td>\n",
       "                        <td id=\"T_c3f934ea_8fb9_11eb_86a2_902b343df05arow10_col1\" class=\"data row10 col1\" >523</td>\n",
       "            </tr>\n",
       "            <tr>\n",
       "                        <th id=\"T_c3f934ea_8fb9_11eb_86a2_902b343df05alevel0_row11\" class=\"row_heading level0 row11\" >11</th>\n",
       "                        <td id=\"T_c3f934ea_8fb9_11eb_86a2_902b343df05arow11_col0\" class=\"data row11 col0\" >2017-05-01 00:00:00</td>\n",
       "                        <td id=\"T_c3f934ea_8fb9_11eb_86a2_902b343df05arow11_col1\" class=\"data row11 col1\" >639</td>\n",
       "            </tr>\n",
       "    </tbody></table>"
      ],
      "text/plain": [
       "<pandas.io.formats.style.Styler at 0x174275b0>"
      ]
     },
     "execution_count": 19,
     "metadata": {},
     "output_type": "execute_result"
    }
   ],
   "source": [
    "touch_users = df[df['device'] == 'touch'\n",
    "                            ].groupby('first_visit_month').agg({'uid': 'nunique'}).reset_index()\n",
    "touch_users.columns = ['first_visit_month', 'touch_users']\n",
    "touch_users\n",
    "\n",
    "(touch_users\n",
    " .style\n",
    " .set_caption('Количество новых пользователей `touch` за месяц')\n",
    " .background_gradient(cmap='Blues')\n",
    ")"
   ]
  },
  {
   "cell_type": "code",
   "execution_count": 20,
   "metadata": {},
   "outputs": [
    {
     "data": {
      "text/html": [
       "<div>\n",
       "<style scoped>\n",
       "    .dataframe tbody tr th:only-of-type {\n",
       "        vertical-align: middle;\n",
       "    }\n",
       "\n",
       "    .dataframe tbody tr th {\n",
       "        vertical-align: top;\n",
       "    }\n",
       "\n",
       "    .dataframe thead th {\n",
       "        text-align: right;\n",
       "    }\n",
       "</style>\n",
       "<table border=\"1\" class=\"dataframe\">\n",
       "  <thead>\n",
       "    <tr style=\"text-align: right;\">\n",
       "      <th>cohort_lifetime</th>\n",
       "      <th>0</th>\n",
       "      <th>1</th>\n",
       "      <th>2</th>\n",
       "      <th>3</th>\n",
       "      <th>4</th>\n",
       "      <th>5</th>\n",
       "    </tr>\n",
       "    <tr>\n",
       "      <th>first_visit_month</th>\n",
       "      <th></th>\n",
       "      <th></th>\n",
       "      <th></th>\n",
       "      <th></th>\n",
       "      <th></th>\n",
       "      <th></th>\n",
       "    </tr>\n",
       "  </thead>\n",
       "  <tbody>\n",
       "    <tr>\n",
       "      <th>2016-06-01</th>\n",
       "      <td>2.53</td>\n",
       "      <td>3.14</td>\n",
       "      <td>3.44</td>\n",
       "      <td>4.13</td>\n",
       "      <td>4.99</td>\n",
       "      <td>5.73</td>\n",
       "    </tr>\n",
       "    <tr>\n",
       "      <th>2016-07-01</th>\n",
       "      <td>3.62</td>\n",
       "      <td>4.02</td>\n",
       "      <td>4.32</td>\n",
       "      <td>4.60</td>\n",
       "      <td>4.86</td>\n",
       "      <td>5.02</td>\n",
       "    </tr>\n",
       "    <tr>\n",
       "      <th>2016-08-01</th>\n",
       "      <td>3.15</td>\n",
       "      <td>4.36</td>\n",
       "      <td>4.89</td>\n",
       "      <td>5.38</td>\n",
       "      <td>5.70</td>\n",
       "      <td>6.11</td>\n",
       "    </tr>\n",
       "    <tr>\n",
       "      <th>2016-09-01</th>\n",
       "      <td>3.01</td>\n",
       "      <td>4.92</td>\n",
       "      <td>5.73</td>\n",
       "      <td>5.98</td>\n",
       "      <td>6.19</td>\n",
       "      <td>6.35</td>\n",
       "    </tr>\n",
       "    <tr>\n",
       "      <th>2016-10-01</th>\n",
       "      <td>3.20</td>\n",
       "      <td>4.30</td>\n",
       "      <td>4.66</td>\n",
       "      <td>4.84</td>\n",
       "      <td>5.05</td>\n",
       "      <td>5.43</td>\n",
       "    </tr>\n",
       "    <tr>\n",
       "      <th>2016-11-01</th>\n",
       "      <td>4.28</td>\n",
       "      <td>4.94</td>\n",
       "      <td>5.21</td>\n",
       "      <td>5.32</td>\n",
       "      <td>5.55</td>\n",
       "      <td>5.65</td>\n",
       "    </tr>\n",
       "    <tr>\n",
       "      <th>2016-12-01</th>\n",
       "      <td>3.26</td>\n",
       "      <td>3.64</td>\n",
       "      <td>3.87</td>\n",
       "      <td>4.22</td>\n",
       "      <td>4.31</td>\n",
       "      <td>4.47</td>\n",
       "    </tr>\n",
       "  </tbody>\n",
       "</table>\n",
       "</div>"
      ],
      "text/plain": [
       "cohort_lifetime       0     1     2     3     4     5\n",
       "first_visit_month                                    \n",
       "2016-06-01         2.53  3.14  3.44  4.13  4.99  5.73\n",
       "2016-07-01         3.62  4.02  4.32  4.60  4.86  5.02\n",
       "2016-08-01         3.15  4.36  4.89  5.38  5.70  6.11\n",
       "2016-09-01         3.01  4.92  5.73  5.98  6.19  6.35\n",
       "2016-10-01         3.20  4.30  4.66  4.84  5.05  5.43\n",
       "2016-11-01         4.28  4.94  5.21  5.32  5.55  5.65\n",
       "2016-12-01         3.26  3.64  3.87  4.22  4.31  4.47"
      ]
     },
     "execution_count": 20,
     "metadata": {},
     "output_type": "execute_result"
    }
   ],
   "source": [
    "touch_cohorts = df.query('device == \"touch\"')\\\n",
    "                    .groupby(['first_visit_month','order_month'])\\\n",
    "                    .agg({'revenue': 'sum'})\\\n",
    "                    .reset_index()\n",
    "touch = pd.merge(touch_cohorts, touch_users, on='first_visit_month')\n",
    "touch['cohort_lifetime'] = (touch['order_month'] - touch['first_visit_month']) / np.timedelta64(1, 'M')\n",
    "touch['cohort_lifetime'] = touch['cohort_lifetime'].round().astype('int')\n",
    "touch['first_visit_month'] = touch['first_visit_month'].dt.strftime('%Y-%m-%d')\n",
    "touch['ltv'] = touch['revenue'] / touch['touch_users']\n",
    "touch_6_ltv = touch.loc[(touch['first_visit_month'] < '2017-01-01') & (touch['cohort_lifetime'] < 6)]\n",
    "\n",
    "touch_6_ltv = touch_6_ltv.pivot_table(index='first_visit_month', columns='cohort_lifetime', \n",
    "                            values='ltv', aggfunc='mean')\n",
    "touch_6_ltv = touch_6_ltv.cumsum(axis=1).fillna('').round(2)\n",
    "touch_6_ltv"
   ]
  },
  {
   "cell_type": "code",
   "execution_count": 21,
   "metadata": {},
   "outputs": [
    {
     "data": {
      "image/png": "[encoded data removed]",
      "text/plain": [
       "<Figure size 504x360 with 2 Axes>"
      ]
     },
     "metadata": {
      "needs_background": "light"
     },
     "output_type": "display_data"
    }
   ],
   "source": [
    "fig, ax = plt.subplots(figsize=(7, 5))\n",
    "ax = sns.heatmap(touch_6_ltv, annot=True, linewidths=1, linecolor='gray')\n",
    "plt.title('Метрика LTV по ежемесячным когортам устройства touch 2016 года за 6 месяцев')\n",
    "plt.xlabel('Cohort lifetime')\n",
    "plt.ylabel('Когорта');"
   ]
  },
  {
   "cell_type": "markdown",
   "metadata": {},
   "source": [
    "Начальные значения метрики - 2,5 - 4,3 ед. Минимальное значение LTV `touch` в конце обозначенного жизненного цикла - 4,5, максимальное - 6,3. Мы видим, что по сравнению с предыдущими графиками, когорты растут более равномерно. Сразвнительно высокие финальные показатели LTV у августовской (6,1) и ноябрьской (5,7) когорт. \n",
    "\n",
    "Среднее значение LTV по семи когортам 5,5 ед. "
   ]
  },
  {
   "cell_type": "markdown",
   "metadata": {},
   "source": [
    "Можно сделать вывод, что пользователи, которые впервые посетили сайт с устройства `desktop` приносят больше денег в июньской, сентябрьской и декабрьской когортах. "
   ]
  },
  {
   "cell_type": "markdown",
   "metadata": {},
   "source": [
    "Далее проанализируем рекламные источники:"
   ]
  },
  {
   "cell_type": "code",
   "execution_count": 22,
   "metadata": {},
   "outputs": [
    {
     "data": {
      "text/plain": [
       "[1, 2, 3, 4, 5, 7, 9, 10]"
      ]
     },
     "execution_count": 22,
     "metadata": {},
     "output_type": "execute_result"
    }
   ],
   "source": [
    "sources = df['source_id'].sort_values().drop_duplicates().tolist()\n",
    "sources"
   ]
  },
  {
   "cell_type": "code",
   "execution_count": 23,
   "metadata": {},
   "outputs": [
    {
     "data": {
      "image/png": "[encoded data removed]",
      "text/plain": [
       "<Figure size 504x360 with 2 Axes>"
      ]
     },
     "metadata": {
      "needs_background": "light"
     },
     "output_type": "display_data"
    },
    {
     "data": {
      "image/png": "[encoded data removed]",
      "text/plain": [
       "<Figure size 504x360 with 2 Axes>"
      ]
     },
     "metadata": {
      "needs_background": "light"
     },
     "output_type": "display_data"
    },
    {
     "data": {
      "image/png": "[encoded data removed]",
      "text/plain": [
       "<Figure size 504x360 with 2 Axes>"
      ]
     },
     "metadata": {
      "needs_background": "light"
     },
     "output_type": "display_data"
    },
    {
     "data": {
      "image/png": "[encoded data removed]",
      "text/plain": [
       "<Figure size 504x360 with 2 Axes>"
      ]
     },
     "metadata": {
      "needs_background": "light"
     },
     "output_type": "display_data"
    },
    {
     "data": {
      "image/png": "[encoded data removed]",
      "text/plain": [
       "<Figure size 504x360 with 2 Axes>"
      ]
     },
     "metadata": {
      "needs_background": "light"
     },
     "output_type": "display_data"
    },
    {
     "data": {
      "image/png": "[encoded data removed]",
      "text/plain": [
       "<Figure size 504x360 with 2 Axes>"
      ]
     },
     "metadata": {
      "needs_background": "light"
     },
     "output_type": "display_data"
    },
    {
     "data": {
      "image/png": "[encoded data removed]",
      "text/plain": [
       "<Figure size 504x360 with 2 Axes>"
      ]
     },
     "metadata": {
      "needs_background": "light"
     },
     "output_type": "display_data"
    },
    {
     "data": {
      "image/png": "[encoded data removed]",
      "text/plain": [
       "<Figure size 504x360 with 2 Axes>"
      ]
     },
     "metadata": {
      "needs_background": "light"
     },
     "output_type": "display_data"
    }
   ],
   "source": [
    "for i in [1, 2, 3, 4, 5, 7, 9, 10]:\n",
    "    s_users = df.loc[df['source_id'] == i\n",
    "                        ].groupby('first_visit_month'\n",
    "                                 ).agg({'uid': 'nunique'}).reset_index()\n",
    "    s_users.columns = ['first_visit_month', 's_users']\n",
    "\n",
    "    s_cohorts = df[df['source_id'] == i]\\\n",
    "                      .groupby(['first_visit_month','order_month'])\\\n",
    "                      .agg({'revenue': 'sum'})\\\n",
    "                      .reset_index()\n",
    "    s_report = pd.merge(s_cohorts, s_users, on='first_visit_month')\n",
    "    s_report['cohort_lifetime'] = (s_report['order_month'] - s_report['first_visit_month']) / np.timedelta64(1, 'M')\n",
    "    s_report['cohort_lifetime'] = s_report['cohort_lifetime'].round().astype('int')\n",
    "    s_report['first_visit_month'] = s_report['first_visit_month'].dt.strftime('%Y-%m-%d')\n",
    "    s_report['ltv'] = s_report['revenue'] / s_report['s_users']\n",
    "    s_report_6 = s_report.loc[(s_report['first_visit_month'] < '2017-01-01') & (s_report['cohort_lifetime'] < 6)]\n",
    "\n",
    "    s_report_6_ltv = s_report_6.pivot_table(index='first_visit_month', \n",
    "                                                columns='cohort_lifetime', \n",
    "                                                values='ltv', \n",
    "                                                aggfunc='mean')\n",
    "    s_report_6_ltv = s_report_6_ltv.cumsum(axis=1).round(2)\n",
    "    plt.figure(figsize=(7, 5))\n",
    "    plt.title(i)\n",
    "    sns.heatmap(s_report_6_ltv, annot=True, linewidths=1, linecolor='gray');"
   ]
  },
  {
   "cell_type": "markdown",
   "metadata": {},
   "source": [
    "Полученнные итоговые знаенчия LTV будем сравнивать со средним значением метрики - 7,5 ед. Судя по полученным графикам, самых платежеспособных пользователей привлекли по 1 и 2 источникам. 3 источник дал хоршоий результат только в сентябрьской когорте, остальные когорты  - ниже среднего. "
   ]
  },
  {
   "cell_type": "markdown",
   "metadata": {},
   "source": [
    "Но если посмотреть на динамику роста метрики на графике, можно отметить интересными для развития источники №4 и №9. В них LTV вырастает на 1,5 - 2 единицы за полгода. "
   ]
  },
  {
   "cell_type": "markdown",
   "metadata": {},
   "source": [
    "[В начало](#step0)"
   ]
  },
  {
   "cell_type": "markdown",
   "metadata": {},
   "source": [
    "<div id='step5'/>\n",
    "\n",
    "## Общий вывод"
   ]
  },
  {
   "cell_type": "markdown",
   "metadata": {},
   "source": [
    "Для расчета LTV я использовала когортный анализ. Сгруппировала предобработанные данные по дате первого платежа, объединила их в месячные когорты и рассчитала кумулятивное значение метрики внутри каждой когорты. Далее я выбрала 6 месяцев жизненного цикла когорты, чтобы сравнение LTV между когортами было корректно.\n",
    "\n",
    "- Общее LTV:\n",
    "\n",
    "Начальные значения метрики составили от  4,5 до 5,8 ед. Минимальное значение LTV в конце полугода было 5,7, максимальное - 11. Самые высокие значения 10 и 9,2 ед. были у сентябрьской и июньской когорты. Летние когорты показывали себя в целом лучше осенних. Показатели в августе и июле - 7,8 и 7,2. Поздние когорты не вырастают за 6,5 ед. Среднее значение LTV по всем семи когортам 7,5 ед. \n",
    "\n",
    "Далее я разделила данные по устройствам, с которого пользователь пришел впервые (по дате первого визита). И аналогично рассчитала LTV когортным анализом. Получилось, что категория “desktop” значительно больше по количеству пользователей, чем “touch”. LTV у “desktop”  также оказался выше в среднем. \n",
    "\n",
    "- Пользователи “desktop”:\n",
    "\n",
    "Начальные значения метрики - 3,3 - 4,1 ед. Минимальное значение LTV в конце обозначенного жизненного цикла - 5,2, максимальное - 9,6. Мы видим, что распределение значения LTV похожи на общий тренд метрики. Самые высокие значения у июньской и сентябрьской когорты (9,6 и 8,7). На третьем месте декабрь - 7 ед. Летние когорты также прибыльнее, чем осенние. Среднее значение LTV по семи когортам 6,9 ед. \n",
    "- Пользователи “touch”:\n",
    "\n",
    "Начальные значения метрики - 2,5 - 4,3 ед. Минимальное значение LTV - 4,5, максимальное - 6,3. Мы видим, что по сравнению с предыдущими графиками, когорты растут более равномерно. Сравнительно высокие финальные показатели LTV в августовской (6,1) и ноябрьских (5,7) когортах. \n",
    "Среднее значение LTV по семи когортам 5,5 ед. \n",
    "Можно сделать вывод, что пользователи, которые впервые посетили сайт с устройства `desktop` приносят в среднем больше денег за счет высоких значений LTV в июньской, сентябрьской и декабрьской когортах. \n",
    "\n",
    "Затем я сгруппировала данные по рекламным источникам, откуда пришел пользователь и проанализировала их. Полученные итоговые значения сравнивала со средним  LTV  - 7,5 ед.\n",
    "Самыми эффективными оказались источники №2 (11,8 ед) и №1 (10 ед).  3 источник дал хороший результат только в сентябрьской когорте, среднее - 5,8 ед.Остальные источники показали результаты ниже среднего. Но если посмотреть на динамику роста метрики на графике, можно отметить интересными для развития источники №4 и №9. В них LTV вырастает на 1,5 - 2 единицы за полгода. \n",
    "\n",
    "Поэтому для роста LTV рекомендую уделять внимание развитием рекламных каналов №№2,1, 4 и 9. "
   ]
  }
 ],
 "metadata": {
  "kernelspec": {
   "display_name": "Python 3",
   "language": "python",
   "name": "python3"
  },
  "language_info": {
   "codemirror_mode": {
    "name": "ipython",
    "version": 3
   },
   "file_extension": ".py",
   "mimetype": "text/x-python",
   "name": "python",
   "nbconvert_exporter": "python",
   "pygments_lexer": "ipython3",
   "version": "3.8.5"
  }
 },
 "nbformat": 4,
 "nbformat_minor": 4
}
